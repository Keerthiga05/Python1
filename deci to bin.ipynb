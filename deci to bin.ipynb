{
 "cells": [
  {
   "cell_type": "code",
   "execution_count": null,
   "id": "58e5dab0-0680-4d3a-95de-170495a1831f",
   "metadata": {},
   "outputs": [],
   "source": [
    "# DECIMAL CONVERT TO BINARY"
   ]
  },
  {
   "cell_type": "code",
   "execution_count": null,
   "id": "9503e25b-16a2-4461-a4b1-854373499bfc",
   "metadata": {},
   "outputs": [],
   "source": [
    "num=25\n",
    "binary=\" \"\n",
    "while num>0:\n",
    "    binary=str(num%2)+binary\n",
    "    num=num//2\n",
    "\n",
    "print(\"Binary:\",binary)"
   ]
  }
 ],
 "metadata": {
  "kernelspec": {
   "display_name": "Python 3 (ipykernel)",
   "language": "python",
   "name": "python3"
  },
  "language_info": {
   "codemirror_mode": {
    "name": "ipython",
    "version": 3
   },
   "file_extension": ".py",
   "mimetype": "text/x-python",
   "name": "python",
   "nbconvert_exporter": "python",
   "pygments_lexer": "ipython3",
   "version": "3.13.5"
  }
 },
 "nbformat": 4,
 "nbformat_minor": 5
}
