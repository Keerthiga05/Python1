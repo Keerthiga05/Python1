{
 "cells": [
  {
   "cell_type": "code",
   "execution_count": null,
   "id": "7601626d-43a2-4bc3-b69f-76bbdfd8e301",
   "metadata": {},
   "outputs": [],
   "source": [
    "#cls notes...example\n",
    "skill=input(\"enter your skill:\")\n",
    "exp=int(input(\"enter your exp:\"))\n",
    "if skill==\"python\":\n",
    "    if exp==1:\n",
    "        print(\"wipro\")\n",
    "elif exp==2:\n",
    "    print(\"tcs\")\n",
    "else:\n",
    "    print(\"not matched\")"
   ]
  },
  {
   "cell_type": "code",
   "execution_count": null,
   "id": "6cd808ef-7073-49f0-a577-07c7244fa1a6",
   "metadata": {},
   "outputs": [],
   "source": [
    "# HOME WORK"
   ]
  },
  {
   "cell_type": "code",
   "execution_count": 9,
   "id": "4fb93d7f-ae2e-4f23-9a4d-5c8860120b0b",
   "metadata": {},
   "outputs": [
    {
     "name": "stdin",
     "output_type": "stream",
     "text": [
      "enter your skill: python\n",
      "enter your exp: 2\n",
      "enter your native: chennai\n"
     ]
    },
    {
     "name": "stdout",
     "output_type": "stream",
     "text": [
      "Wipro\n"
     ]
    }
   ],
   "source": [
    "#1st\n",
    "#skill-py,exp-1,native-chennai,company-tcs\n",
    "#skill-py,exp-2,natice-chennai,company-wipro\n",
    "\n",
    "skill=input(\"enter your skill:\")\n",
    "exp=int(input(\"enter your exp:\"))\n",
    "native=input(\"enter your native:\")\n",
    "if skill==\"python\":\n",
    "    if(exp==1 and native==\"chennai\"):\n",
    "        print(\"TCS\")\n",
    "    elif(exp==2 and native==\"chennai\"):\n",
    "        print(\"Wipro\")\n",
    "    else:\n",
    "        print(\"Not Matched\")"
   ]
  },
  {
   "cell_type": "code",
   "execution_count": 5,
   "id": "1a9f02f1-7ee3-4c58-a6a6-052686da7b9e",
   "metadata": {},
   "outputs": [
    {
     "name": "stdin",
     "output_type": "stream",
     "text": [
      "enter your skill: java\n",
      "enter your exp: 2\n",
      "enter your native: chennai\n"
     ]
    },
    {
     "name": "stdout",
     "output_type": "stream",
     "text": [
      "HCL\n"
     ]
    }
   ],
   "source": [
    "# 2nd question   \n",
    "'''skill-java,exp-1,native-cbe,company-cognizant\n",
    "skill-java,exp-2,native-cbe,company-accenture\n",
    "skill-java,exp-1,natice-chennai,company-trios\n",
    "skill-java,exp-2,native-chennai,company-hcl'''\n",
    "\n",
    "skill=input(\"enter your skill:\")\n",
    "exp=int(input(\"enter your exp:\"))\n",
    "native=input(\"enter your native:\")\n",
    "if skill==\"java\":\n",
    "    if native==\"coimbatore\":\n",
    "        if exp==1:\n",
    "            print(\"Cognizant\")\n",
    "        elif exp==2:\n",
    "            print(\"Accenture\")\n",
    "        else:\n",
    "            print(\"Not Matched\")\n",
    "    elif native==\"chennai\":\n",
    "        if exp==1:\n",
    "            print(\"Trios\")\n",
    "        elif exp==2:\n",
    "            print(\"HCL\")\n",
    "        else:\n",
    "            print(\"Not Matched\")\n",
    "else:\n",
    "    print(\"Invalid candidate\")"
   ]
  },
  {
   "cell_type": "code",
   "execution_count": null,
   "id": "8c6c44db-18c0-4b96-bf0e-0d1ac23babb7",
   "metadata": {},
   "outputs": [],
   "source": []
  }
 ],
 "metadata": {
  "kernelspec": {
   "display_name": "Python 3 (ipykernel)",
   "language": "python",
   "name": "python3"
  },
  "language_info": {
   "codemirror_mode": {
    "name": "ipython",
    "version": 3
   },
   "file_extension": ".py",
   "mimetype": "text/x-python",
   "name": "python",
   "nbconvert_exporter": "python",
   "pygments_lexer": "ipython3",
   "version": "3.13.5"
  }
 },
 "nbformat": 4,
 "nbformat_minor": 5
}
