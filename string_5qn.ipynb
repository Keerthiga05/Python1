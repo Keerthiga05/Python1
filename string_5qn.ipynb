{
 "cells": [
  {
   "cell_type": "code",
   "execution_count": 5,
   "id": "2d9a6dff-b20a-424c-a63e-4e9fa7257188",
   "metadata": {},
   "outputs": [],
   "source": [
    "# 1.Count vowels in a string without using count()"
   ]
  },
  {
   "cell_type": "code",
   "execution_count": 3,
   "id": "a1624475-7c3f-40ed-992e-1bc8fce26dac",
   "metadata": {},
   "outputs": [
    {
     "name": "stdout",
     "output_type": "stream",
     "text": [
      "Number of vowels in a text: 3\n"
     ]
    }
   ],
   "source": [
    "text = \"programming\"\n",
    "vowels = \"aeiouAEIOU\"\n",
    "count = 0\n",
    "for ch in text:\n",
    "    if ch in vowels:\n",
    "        count +=1\n",
    "print(\"Number of vowels in a text:\",count)"
   ]
  },
  {
   "cell_type": "code",
   "execution_count": null,
   "id": "8941f6f8-b005-4148-910f-d19b384fd09b",
   "metadata": {},
   "outputs": [],
   "source": [
    "# 2.Print the first and last character of a string"
   ]
  },
  {
   "cell_type": "code",
   "execution_count": 7,
   "id": "cf515420-5203-40e7-9030-044db4aed811",
   "metadata": {},
   "outputs": [
    {
     "name": "stdout",
     "output_type": "stream",
     "text": [
      "P n\n"
     ]
    }
   ],
   "source": [
    "text = \"Python\"\n",
    "first = None\n",
    "last = None\n",
    "index = 0\n",
    "for ch in text:\n",
    "    if index == 0:\n",
    "        first = ch\n",
    "    last = ch\n",
    "    index += 1\n",
    "print(first,last)"
   ]
  },
  {
   "cell_type": "code",
   "execution_count": null,
   "id": "1dfda291-0c43-4553-ad51-a86fc21963e8",
   "metadata": {},
   "outputs": [],
   "source": [
    "# 3.Count how many times a letter appears in a string"
   ]
  },
  {
   "cell_type": "code",
   "execution_count": 8,
   "id": "e0cfbaec-0b02-4c46-9b66-29ee24564104",
   "metadata": {},
   "outputs": [
    {
     "name": "stdout",
     "output_type": "stream",
     "text": [
      "2\n"
     ]
    }
   ],
   "source": [
    "text = \"programming\"\n",
    "letter = \"m\"\n",
    "count = 0\n",
    "for ch in text:\n",
    "    if ch == letter:\n",
    "        count += 1\n",
    "print(count)"
   ]
  },
  {
   "cell_type": "code",
   "execution_count": null,
   "id": "95c3058f-e6ab-4a76-bca3-c9f3b1eed2b5",
   "metadata": {},
   "outputs": [],
   "source": [
    "# 4.Print each word in a string separately (without using split)"
   ]
  },
  {
   "cell_type": "code",
   "execution_count": 9,
   "id": "b9e7d024-f3f9-4f79-83ed-2fb526aad869",
   "metadata": {},
   "outputs": [
    {
     "name": "stdout",
     "output_type": "stream",
     "text": [
      "I\n",
      "love\n",
      "Python\n"
     ]
    }
   ],
   "source": [
    "text = \"I love Python\"\n",
    "word = \"\"\n",
    "for ch in text:\n",
    "    if ch != \" \":\n",
    "        word += ch\n",
    "    else:\n",
    "        print(word)\n",
    "        word = \"\"\n",
    "print(word)"
   ]
  },
  {
   "cell_type": "code",
   "execution_count": null,
   "id": "4e7fb04b-57e4-4ad0-9691-64b0ff88b692",
   "metadata": {},
   "outputs": [],
   "source": [
    "# 5.Print ASCII value of each character"
   ]
  },
  {
   "cell_type": "code",
   "execution_count": 10,
   "id": "115bda90-654f-4417-aa38-87b445aca8ad",
   "metadata": {},
   "outputs": [
    {
     "name": "stdout",
     "output_type": "stream",
     "text": [
      "A : 65\n",
      "B : 66\n"
     ]
    }
   ],
   "source": [
    "text = \"AB\"\n",
    "for ch in text:\n",
    "    print(ch, \":\", ord(ch))"
   ]
  },
  {
   "cell_type": "code",
   "execution_count": null,
   "id": "e01eee13-27d9-4b22-b390-6fcd11bbb424",
   "metadata": {},
   "outputs": [],
   "source": []
  }
 ],
 "metadata": {
  "kernelspec": {
   "display_name": "Python 3 (ipykernel)",
   "language": "python",
   "name": "python3"
  },
  "language_info": {
   "codemirror_mode": {
    "name": "ipython",
    "version": 3
   },
   "file_extension": ".py",
   "mimetype": "text/x-python",
   "name": "python",
   "nbconvert_exporter": "python",
   "pygments_lexer": "ipython3",
   "version": "3.13.5"
  }
 },
 "nbformat": 4,
 "nbformat_minor": 5
}
