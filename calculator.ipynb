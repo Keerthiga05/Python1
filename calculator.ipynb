{
 "cells": [
  {
   "cell_type": "code",
   "execution_count": 2,
   "id": "b8bff053-1151-4287-802f-bd532300b8f6",
   "metadata": {},
   "outputs": [
    {
     "name": "stdin",
     "output_type": "stream",
     "text": [
      "Enter Number1: 2\n",
      "Enter Number2: 3\n",
      "Enter Operator: +\n"
     ]
    },
    {
     "name": "stdout",
     "output_type": "stream",
     "text": [
      "5\n"
     ]
    }
   ],
   "source": [
    "# Calculator function\n",
    "\n",
    "num1=int(input(\"Enter Number1:\"))\n",
    "num2=int(input(\"Enter Number2:\"))\n",
    "operator=input(\"Enter Operator:\")\n",
    "\n",
    "# Addition:\n",
    "if operator==\"+\":\n",
    "    def add(a,b):\n",
    "        c=a+b\n",
    "        return c\n",
    "    p=add(num1,num2)\n",
    "    print(p)\n",
    "\n",
    "# Subtraction:\n",
    "elif operator==\"-\":\n",
    "    def sub(a,b):\n",
    "        c=a-b\n",
    "        return c\n",
    "    q=sub(num1,num2)\n",
    "    print(q)\n",
    "\n",
    "# Multiplication\n",
    "elif operator==\"*\":\n",
    "    def mul(a,b):\n",
    "        c=a*b\n",
    "        return c\n",
    "    r=mul(num1,num2)\n",
    "    print(r)\n",
    "\n",
    "# Division:\n",
    "elif operator==\"/\":\n",
    "    def div(a,b):\n",
    "        c=a/b\n",
    "        return c\n",
    "    s=div(num1,num2)\n",
    "    print(s)\n",
    "\n",
    "else:\n",
    "    print(\"Invalid Input\")"
   ]
  },
  {
   "cell_type": "code",
   "execution_count": 4,
   "id": "f548c13e-adc5-42ca-a948-67610a746800",
   "metadata": {},
   "outputs": [
    {
     "name": "stdin",
     "output_type": "stream",
     "text": [
      "Enter your 1st value:  2\n",
      "Enter your 2nd value:  3\n",
      "Enter Operator):  +\n"
     ]
    },
    {
     "name": "stdout",
     "output_type": "stream",
     "text": [
      "5\n"
     ]
    }
   ],
   "source": [
    "# Calculator using functions\n",
    "\n",
    "def add(a, b):\n",
    "    return a + b\n",
    "    \n",
    "def sub(a, b):\n",
    "    return a - b\n",
    "    \n",
    "def mul(a, b):\n",
    "    return a * b\n",
    "\n",
    "def div(a, b):\n",
    "    if b != 0:\n",
    "        return a / b\n",
    "    else:\n",
    "        return \"Error: Division by zero\"\n",
    "\n",
    "num1 = int(input(\"Enter your 1st value: \"))\n",
    "num2 = int(input(\"Enter your 2nd value: \"))\n",
    "operator = input(\"Enter Operator): \")\n",
    "\n",
    "if operator == \"+\":\n",
    "    print(add(num1, num2))\n",
    "elif operator == \"-\":\n",
    "    print( sub(num1, num2))\n",
    "elif operator == \"*\":\n",
    "    print( mul(num1, num2))\n",
    "elif operator == \"/\":\n",
    "    print( div(num1, num2))\n",
    "else:\n",
    "    print(\"Invalid\")\n"
   ]
  },
  {
   "cell_type": "code",
   "execution_count": null,
   "id": "39af0e72-4e53-4140-b267-b79a1e74b6ad",
   "metadata": {},
   "outputs": [],
   "source": []
  },
  {
   "cell_type": "code",
   "execution_count": null,
   "id": "391ab8e8-2fdc-49ba-b131-65c49454eaae",
   "metadata": {},
   "outputs": [],
   "source": [
    "def calculator():\n",
    "    try:\n",
    "        num1 = float(input(\"Enter first number: \"))\n",
    "        num2 = float(input(\"Enter second number: \"))\n",
    "        operator = input(\"Enter operator (+, -, *, /): \")\n",
    "\n",
    "        if operator == \"+\":\n",
    "            print(\"Result:\", num1 + num2)\n",
    "        elif operator == \"-\":\n",
    "            print(\"Result:\", num1 - num2)\n",
    "        elif operator == \"*\":\n",
    "            print(\"Result:\", num1 * num2)\n",
    "        elif operator == \"/\":\n",
    "            try:\n",
    "                print(\"Result:\", num1 / num2)\n",
    "            except ZeroDivisionError:\n",
    "                print(\"Error: Cannot divide by zero\")\n",
    "        else:\n",
    "            print(\"Invalid operator! Please use +, -, *, or /.\")\n",
    "\n",
    "    except ValueError:\n",
    "        print(\"Error: Please enter valid numbers.\")\n",
    "\n",
    "# Run the calculator\n",
    "calculator()\n"
   ]
  },
  {
   "cell_type": "code",
   "execution_count": null,
   "id": "ee1ff934-a643-4dae-9d8d-7faca8a9d664",
   "metadata": {},
   "outputs": [],
   "source": []
  }
 ],
 "metadata": {
  "kernelspec": {
   "display_name": "Python 3 (ipykernel)",
   "language": "python",
   "name": "python3"
  },
  "language_info": {
   "codemirror_mode": {
    "name": "ipython",
    "version": 3
   },
   "file_extension": ".py",
   "mimetype": "text/x-python",
   "name": "python",
   "nbconvert_exporter": "python",
   "pygments_lexer": "ipython3",
   "version": "3.13.5"
  }
 },
 "nbformat": 4,
 "nbformat_minor": 5
}
