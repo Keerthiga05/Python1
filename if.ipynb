{
 "cells": [
  {
   "cell_type": "code",
   "execution_count": 1,
   "id": "a47edb04-800d-4986-bebf-24e3c891b485",
   "metadata": {},
   "outputs": [
    {
     "name": "stdin",
     "output_type": "stream",
     "text": [
      "Enter your first number: 2\n",
      "Enter your second number: 3\n",
      "Enter your third number: 4\n"
     ]
    },
    {
     "name": "stdout",
     "output_type": "stream",
     "text": [
      "Third number is greater 4\n"
     ]
    }
   ],
   "source": [
    "#find the greatest number\n",
    "a=int(input(\"Enter your first number:\"))\n",
    "b=int(input(\"Enter your second number:\"))\n",
    "c=int(input(\"Enter your third number:\"))\n",
    "if a>b and a>c:\n",
    "    print( \"first number is greater\",a)\n",
    "elif b>a and b>c:\n",
    "    print(\"second number is greater\",b)\n",
    "else:\n",
    "    print(\"Third number is greater\",c)"
   ]
  },
  {
   "cell_type": "code",
   "execution_count": 5,
   "id": "ecb5a8cb-670c-45eb-85c1-058baf4679e6",
   "metadata": {},
   "outputs": [
    {
     "name": "stdin",
     "output_type": "stream",
     "text": [
      "Enter your age: 12\n"
     ]
    },
    {
     "name": "stdout",
     "output_type": "stream",
     "text": [
      "your not eligible\n"
     ]
    }
   ],
   "source": [
    "#age\n",
    "a=int(input(\"Enter your age:\"))\n",
    "if a>20:\n",
    "      print(\"your eligible\")\n",
    "else:\n",
    "    print(\"your not eligible\")"
   ]
  },
  {
   "cell_type": "code",
   "execution_count": 6,
   "id": "f5b13324-24d4-46da-a6aa-2c9014bb3e28",
   "metadata": {},
   "outputs": [
    {
     "name": "stdin",
     "output_type": "stream",
     "text": [
      "Enter your number: 4\n"
     ]
    },
    {
     "name": "stdout",
     "output_type": "stream",
     "text": [
      "number is positive\n"
     ]
    }
   ],
   "source": [
    "# Write a program to check if a number is positive or negative\n",
    "a=int(input(\"Enter your number:\"))\n",
    "if a>0:\n",
    "    print(\"number is positive\")\n",
    "elif a<0:\n",
    "    print(\"number os negative\")\n",
    "else:\n",
    "    print (\"zero\")"
   ]
  },
  {
   "cell_type": "code",
   "execution_count": 9,
   "id": "79fb11f8-9a45-488b-a67e-8e68682817e6",
   "metadata": {},
   "outputs": [
    {
     "name": "stdin",
     "output_type": "stream",
     "text": [
      "Enter your value: 2\n"
     ]
    },
    {
     "name": "stdout",
     "output_type": "stream",
     "text": [
      "even\n"
     ]
    }
   ],
   "source": [
    "# Write a program to check if a given number is even or odd\n",
    "a=int(input(\"Enter your value:\"))\n",
    "if a%2==0:\n",
    "    print(\"even\")\n",
    "else:\n",
    "    print(\"odd\")"
   ]
  },
  {
   "cell_type": "code",
   "execution_count": 13,
   "id": "c4659887-4ce0-4421-bf97-43b1bdc511d2",
   "metadata": {},
   "outputs": [
    {
     "name": "stdin",
     "output_type": "stream",
     "text": [
      "Enter your character: w\n"
     ]
    },
    {
     "name": "stdout",
     "output_type": "stream",
     "text": [
      "consonant\n"
     ]
    }
   ],
   "source": [
    "#Check if a given character is a vowel or consonant\n",
    "a=input(\"Enter your character:\")\n",
    "if a in (\"a,e,i,o,u\"):\n",
    "    print(\"vowel\")\n",
    "else:\n",
    "    print(\"consonant\")"
   ]
  },
  {
   "cell_type": "code",
   "execution_count": 15,
   "id": "3aefd3d0-b1c3-4386-91c2-9b3d21d54c2d",
   "metadata": {},
   "outputs": [
    {
     "name": "stdin",
     "output_type": "stream",
     "text": [
      "Enter your age: 17\n"
     ]
    },
    {
     "name": "stdout",
     "output_type": "stream",
     "text": [
      "Your not eligible\n"
     ]
    }
   ],
   "source": [
    "#Write a program to check if a person is eligible to vote (age ≥ 18)\n",
    "age=int(input(\"Enter your age:\"))\n",
    "if age>=18:\n",
    "    print(\"Your eligible\")\n",
    "else:\n",
    "    print(\"Your not eligible\")"
   ]
  },
  {
   "cell_type": "code",
   "execution_count": 16,
   "id": "6b19d1cb-8cab-4208-89bf-43c18d80cb2e",
   "metadata": {},
   "outputs": [
    {
     "name": "stdin",
     "output_type": "stream",
     "text": [
      "Enter your number: 45\n"
     ]
    },
    {
     "name": "stdout",
     "output_type": "stream",
     "text": [
      "the number is divisable 45\n"
     ]
    }
   ],
   "source": [
    "#Write a program to check whether a number is divisible by 5\n",
    "a=int(input(\"Enter your number:\"))\n",
    "if a%5==0:\n",
    "    print(\"the number is divisable\",a)\n",
    "else:\n",
    "    print(\"the number is not divisable\",b)"
   ]
  },
  {
   "cell_type": "code",
   "execution_count": null,
   "id": "703a473c-8520-40c7-af46-b40812107236",
   "metadata": {},
   "outputs": [],
   "source": []
  }
 ],
 "metadata": {
  "kernelspec": {
   "display_name": "Python 3 (ipykernel)",
   "language": "python",
   "name": "python3"
  },
  "language_info": {
   "codemirror_mode": {
    "name": "ipython",
    "version": 3
   },
   "file_extension": ".py",
   "mimetype": "text/x-python",
   "name": "python",
   "nbconvert_exporter": "python",
   "pygments_lexer": "ipython3",
   "version": "3.13.5"
  }
 },
 "nbformat": 4,
 "nbformat_minor": 5
}
