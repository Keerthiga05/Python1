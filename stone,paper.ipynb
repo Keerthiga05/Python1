{
 "cells": [
  {
   "cell_type": "code",
   "execution_count": null,
   "id": "4cf0ff8e-034e-4ed3-9a66-11bcbb290236",
   "metadata": {},
   "outputs": [],
   "source": [
    "# stone paper scissor (if,elif else)"
   ]
  },
  {
   "cell_type": "code",
   "execution_count": 5,
   "id": "2d8ebbad-7b66-4499-9009-8fb25867a48a",
   "metadata": {},
   "outputs": [
    {
     "name": "stdin",
     "output_type": "stream",
     "text": [
      "Enter your choice (stone/paper/scissor):  paper\n"
     ]
    },
    {
     "name": "stdout",
     "output_type": "stream",
     "text": [
      "You chose: paper\n",
      "Computer chose: stone\n",
      "You Win!\n"
     ]
    }
   ],
   "source": [
    "choices = [\"stone\", \"paper\", \"scissor\"]\n",
    "\n",
    "user = input(\"Enter your choice (stone/paper/scissor): \").lower()\n",
    "computer = random.choice(choices)\n",
    "\n",
    "print(\"You chose:\", user)\n",
    "print(\"Computer chose:\", computer)\n",
    "\n",
    "if user == computer:\n",
    "    print(\"It's a Tie!\")\n",
    "elif (user == \"stone\" and computer == \"scissor\") or \\\n",
    "     (user == \"scissor\" and computer == \"paper\") or \\\n",
    "     (user == \"paper\" and computer == \"stone\"):\n",
    "    print(\"You Win!\")\n",
    "else:\n",
    "    print(\"Computer Wins!\")\n"
   ]
  },
  {
   "cell_type": "code",
   "execution_count": null,
   "id": "eeb0e0a8-d53d-4bb3-a577-0595998d35f2",
   "metadata": {},
   "outputs": [],
   "source": [
    "# stone paper scissor  (using file handling,try,except,finally)"
   ]
  },
  {
   "cell_type": "code",
   "execution_count": 11,
   "id": "9ffe52dc-0193-4010-a825-1f4fb7226223",
   "metadata": {},
   "outputs": [
    {
     "name": "stdin",
     "output_type": "stream",
     "text": [
      "Enter your choice stone / paper / scissor:  scissor\n"
     ]
    },
    {
     "name": "stdout",
     "output_type": "stream",
     "text": [
      "Computer chose: scissor\n",
      "It's a Draw!\n"
     ]
    }
   ],
   "source": [
    "\n",
    "def play():\n",
    "    try:\n",
    "        user = input(\"Enter your choice stone / paper / scissor: \").lower()\n",
    "        if user not in [\"stone\", \"paper\", \"scissor\"]:\n",
    "            raise valueError(\"Invalid choice!\")\n",
    "\n",
    "        computer = random.choice([\"stone\", \"paper\", \"scissor\"])\n",
    "        print(\"Computer chose:\", computer)\n",
    "\n",
    "        if user == computer:\n",
    "            print(\"It's a Draw!\")\n",
    "        elif (user == \"stone\" and computer == \"scissor\") or \\\n",
    "             (user == \"scissor\" and computer == \"paper\") or \\\n",
    "             (user == \"paper\" and computer == \"stone\"):\n",
    "            print(\"You Win!\")\n",
    "        else:\n",
    "            print(\"Computer Wins!\")\n",
    "\n",
    "    except ValueError as e:\n",
    "        print(e)\n",
    "play()\n"
   ]
  },
  {
   "cell_type": "code",
   "execution_count": null,
   "id": "7d3c96d9-a6c4-42d2-ac1e-929622d21106",
   "metadata": {},
   "outputs": [],
   "source": [
    "#task"
   ]
  },
  {
   "cell_type": "code",
   "execution_count": null,
   "id": "07d0ee00-6803-4eb0-8f42-b83aeb7a7194",
   "metadata": {},
   "outputs": [],
   "source": [
    "marks={\"tamil\"=90,\"English\":95,\"maths\":91}"
   ]
  },
  {
   "cell_type": "code",
   "execution_count": null,
   "id": "5f81810a-9660-456f-a7fd-1735434bab2c",
   "metadata": {},
   "outputs": [],
   "source": [
    "marks = {\"tamil\": 90, \"English\": 95, \"maths\": 91}\n",
    "\n",
    "values = list(marks.values())  \n",
    "values.sort()                  \n",
    "\n",
    "print(\"Highest Mark:\", values[-1])   "
   ]
  }
 ],
 "metadata": {
  "kernelspec": {
   "display_name": "Python 3 (ipykernel)",
   "language": "python",
   "name": "python3"
  },
  "language_info": {
   "codemirror_mode": {
    "name": "ipython",
    "version": 3
   },
   "file_extension": ".py",
   "mimetype": "text/x-python",
   "name": "python",
   "nbconvert_exporter": "python",
   "pygments_lexer": "ipython3",
   "version": "3.13.5"
  }
 },
 "nbformat": 4,
 "nbformat_minor": 5
}
