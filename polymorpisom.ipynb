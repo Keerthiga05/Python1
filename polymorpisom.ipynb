{
 "cells": [
  {
   "cell_type": "code",
   "execution_count": null,
   "id": "96173217-ef97-4026-a508-bec1072e73f8",
   "metadata": {},
   "outputs": [],
   "source": [
    "#polymorpisom"
   ]
  },
  {
   "cell_type": "code",
   "execution_count": null,
   "id": "3180c6e7-2b5b-4801-9523-6a825593c319",
   "metadata": {},
   "outputs": [],
   "source": [
    "class Bird:\n",
    "    def fly(self):\n",
    "        return \"Some birds can fly\"\n",
    "\n",
    "class Sparrow(Bird):\n",
    "    def fly(self):\n",
    "        return \"Sparrow flies high\"\n",
    "\n",
    "class Penguin(Bird):\n",
    "    def fly(self):\n",
    "        return \"Penguins cannot fly\"\n",
    "\n"
   ]
  },
  {
   "cell_type": "code",
   "execution_count": null,
   "id": "901e5fd9-5876-4854-9ad8-8241f30d5dd1",
   "metadata": {},
   "outputs": [],
   "source": [
    "# Home Work"
   ]
  },
  {
   "cell_type": "code",
   "execution_count": null,
   "id": "bc691ced-ed82-46a1-a3cd-63d3dc74771a",
   "metadata": {},
   "outputs": [],
   "source": [
    "k=\"    Hello,Welcome.!  \""
   ]
  },
  {
   "cell_type": "code",
   "execution_count": null,
   "id": "2b6b0e3d-6e95-414e-be25-d621c022f7d4",
   "metadata": {},
   "outputs": [],
   "source": [
    "k = \"    Hello,Welcome.!  \"\n",
    "result = k.strip()\n",
    "print(result)  "
   ]
  },
  {
   "cell_type": "code",
   "execution_count": null,
   "id": "148ee568-6953-4f56-9cce-82d552f19cfe",
   "metadata": {},
   "outputs": [],
   "source": [
    "text = \"   Hello Welcome!   \"\n",
    "text = text.strip(\" !.\")\n",
    "words = text.split()\n",
    "for w in words:\n",
    "    print(w.lower(), len(w), \"letters\")\n"
   ]
  },
  {
   "cell_type": "code",
   "execution_count": 1,
   "id": "e80e710a-0c31-4186-9988-646c30ed040b",
   "metadata": {},
   "outputs": [
    {
     "name": "stdout",
     "output_type": "stream",
     "text": [
      "Some generic sound1\n"
     ]
    }
   ],
   "source": [
    "class Animal:\n",
    "    def sound(self):\n",
    "        return \"Some generic sound\"\n",
    "    def sound1(self):\n",
    "        return \"Some generic sound1\"\n",
    "\n",
    "class Dog(Animal):\n",
    "    def sound(self):\n",
    "        return \"Woof!\"  # Overriding parent method\n",
    "\n",
    "class Cat(Animal):\n",
    "    def sound(self):\n",
    "        return \"Meow!\"  # Overriding parent method\n",
    "\n",
    "cat=Cat()\n",
    "print(cat.sound1())\n",
    "\n",
    "# animal=Animal()\n",
    "# animal.sound()"
   ]
  },
  {
   "cell_type": "code",
   "execution_count": 2,
   "id": "9f08a9ca-f021-4f92-ad9e-1a4a5d0ec73e",
   "metadata": {},
   "outputs": [
    {
     "name": "stdout",
     "output_type": "stream",
     "text": [
      "Woof!\n",
      "Meow!\n"
     ]
    }
   ],
   "source": [
    "class Dog:\n",
    "    def sound(self):\n",
    "        return \"Woof!\"\n",
    "\n",
    "class Cat:\n",
    "    def sound(self):\n",
    "        return \"Meow!\"\n",
    "dog=Dog()\n",
    "print(dog.sound())\n",
    "\n",
    "cat=Cat()\n",
    "print(cat.sound())"
   ]
  },
  {
   "cell_type": "code",
   "execution_count": null,
   "id": "826fa175-8b20-4cef-b14c-6d14bb1bc499",
   "metadata": {},
   "outputs": [],
   "source": []
  }
 ],
 "metadata": {
  "kernelspec": {
   "display_name": "Python 3 (ipykernel)",
   "language": "python",
   "name": "python3"
  },
  "language_info": {
   "codemirror_mode": {
    "name": "ipython",
    "version": 3
   },
   "file_extension": ".py",
   "mimetype": "text/x-python",
   "name": "python",
   "nbconvert_exporter": "python",
   "pygments_lexer": "ipython3",
   "version": "3.13.5"
  }
 },
 "nbformat": 4,
 "nbformat_minor": 5
}
