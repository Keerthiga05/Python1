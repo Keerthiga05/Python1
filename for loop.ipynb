{
 "cells": [
  {
   "cell_type": "code",
   "execution_count": null,
   "id": "b2093755-9ce5-4219-91ad-23ba055c8e82",
   "metadata": {},
   "outputs": [],
   "source": [
    "# for loop"
   ]
  },
  {
   "cell_type": "code",
   "execution_count": 1,
   "id": "04c90554-9794-469d-aabd-82ac30fa4bf0",
   "metadata": {},
   "outputs": [
    {
     "name": "stdout",
     "output_type": "stream",
     "text": [
      "a\n",
      "p\n",
      "p\n",
      "l\n",
      "e\n"
     ]
    }
   ],
   "source": [
    "for i in \"apple\":\n",
    "    print(i)"
   ]
  },
  {
   "cell_type": "code",
   "execution_count": 2,
   "id": "f663cb8e-fffd-4cc6-b086-fa9a22a64570",
   "metadata": {},
   "outputs": [
    {
     "name": "stdout",
     "output_type": "stream",
     "text": [
      "0\n",
      "1\n",
      "2\n",
      "3\n",
      "4\n"
     ]
    }
   ],
   "source": [
    "# using range ( start value,end value ,step value)\n",
    "for i in range(5):\n",
    "    print (i)"
   ]
  },
  {
   "cell_type": "code",
   "execution_count": 8,
   "id": "40348ac9-b703-4419-99f1-929d6a088e87",
   "metadata": {},
   "outputs": [
    {
     "name": "stdout",
     "output_type": "stream",
     "text": [
      "1\n",
      "3\n",
      "5\n",
      "7\n",
      "9\n",
      "11\n",
      "13\n",
      "15\n",
      "17\n",
      "19\n"
     ]
    }
   ],
   "source": [
    "#using range\n",
    "for i in range(1,20,2):\n",
    "    print(i)"
   ]
  },
  {
   "cell_type": "code",
   "execution_count": 14,
   "id": "183db31e-6842-4c3e-8fb6-f44289a3d18b",
   "metadata": {},
   "outputs": [
    {
     "name": "stdout",
     "output_type": "stream",
     "text": [
      "1 x2= 2\n",
      "2 x2= 4\n",
      "3 x2= 6\n",
      "4 x2= 8\n",
      "5 x2= 10\n",
      "6 x2= 12\n",
      "7 x2= 14\n",
      "8 x2= 16\n",
      "9 x2= 18\n",
      "10 x2= 20\n"
     ]
    }
   ],
   "source": [
    "# 1*2=2\n",
    "for i in range(1,11):\n",
    "    print(i,\"x2=\",i*2)"
   ]
  },
  {
   "cell_type": "code",
   "execution_count": 15,
   "id": "74fcdc60-b6d0-44bf-adb7-b73164c15dfb",
   "metadata": {},
   "outputs": [
    {
     "name": "stdout",
     "output_type": "stream",
     "text": [
      "First Largest: 17\n",
      "Second Largest: 10\n",
      "First Lowest: 5\n",
      "Second Lowest: 5\n"
     ]
    }
   ],
   "source": [
    "# Home work\n",
    "k=[5,6,8,10,7,17]\n",
    "first_largest = second_largest = k[0]\n",
    "first_lowest = second_lowest = k[0]\n",
    "\n",
    "for num in k:\n",
    "    if num > first_largest: #largest number\n",
    "        second_largest = first_largest\n",
    "        first_largest = num\n",
    "    elif num > second_largest and num != first_largest:\n",
    "        second_largest = num\n",
    "    if num < first_lowest:  #lowest number\n",
    "        second_lowest = first_lowest\n",
    "        first_lowest = num\n",
    "    elif num < second_lowest and num != first_lowest:\n",
    "        second_lowest = num\n",
    "\n",
    "print(\"First Largest:\", first_largest)\n",
    "print(\"Second Largest:\", second_largest)\n",
    "print(\"First Lowest:\", first_lowest)\n",
    "print(\"Second Lowest:\", second_lowest)"
   ]
  },
  {
   "cell_type": "code",
   "execution_count": null,
   "id": "2450762d-aaf7-4ea8-bac6-02105fe34a98",
   "metadata": {},
   "outputs": [],
   "source": []
  }
 ],
 "metadata": {
  "kernelspec": {
   "display_name": "Python 3 (ipykernel)",
   "language": "python",
   "name": "python3"
  },
  "language_info": {
   "codemirror_mode": {
    "name": "ipython",
    "version": 3
   },
   "file_extension": ".py",
   "mimetype": "text/x-python",
   "name": "python",
   "nbconvert_exporter": "python",
   "pygments_lexer": "ipython3",
   "version": "3.13.5"
  }
 },
 "nbformat": 4,
 "nbformat_minor": 5
}
