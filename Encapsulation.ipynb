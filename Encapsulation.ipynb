{
 "cells": [
  {
   "cell_type": "code",
   "execution_count": 2,
   "id": "844f1de0-36ae-4988-87a6-a22bc489af5d",
   "metadata": {},
   "outputs": [
    {
     "name": "stdout",
     "output_type": "stream",
     "text": [
      "[88, 99, 101, 123, 456] is not a Palindrome\n"
     ]
    }
   ],
   "source": [
    "num = [88,99,101,123,456]\n",
    "\n",
    "if str(num) == str(num)[::-1]:\n",
    "    print(num, \"is a Palindrome\")\n",
    "else:\n",
    "    print(num, \"is not a Palindrome\")\n"
   ]
  },
  {
   "cell_type": "code",
   "execution_count": 5,
   "id": "0280e37a-edf3-49f7-8030-6f4243b5cf8d",
   "metadata": {},
   "outputs": [
    {
     "ename": "TypeError",
     "evalue": "'>' not supported between instances of 'list' and 'int'",
     "output_type": "error",
     "traceback": [
      "\u001b[1;31m---------------------------------------------------------------------------\u001b[0m",
      "\u001b[1;31mTypeError\u001b[0m                                 Traceback (most recent call last)",
      "Cell \u001b[1;32mIn[5], line 5\u001b[0m\n\u001b[0;32m      2\u001b[0m original \u001b[38;5;241m=\u001b[39m num\n\u001b[0;32m      3\u001b[0m reverse \u001b[38;5;241m=\u001b[39m \u001b[38;5;241m0\u001b[39m\n\u001b[1;32m----> 5\u001b[0m \u001b[38;5;28;01mwhile\u001b[39;00m num \u001b[38;5;241m>\u001b[39m \u001b[38;5;241m0\u001b[39m:\n\u001b[0;32m      6\u001b[0m     reverse \u001b[38;5;241m=\u001b[39m reverse \u001b[38;5;241m*\u001b[39m \u001b[38;5;241m10\u001b[39m \n\u001b[0;32m      8\u001b[0m \u001b[38;5;28;01mif\u001b[39;00m original \u001b[38;5;241m==\u001b[39m reverse:\n",
      "\u001b[1;31mTypeError\u001b[0m: '>' not supported between instances of 'list' and 'int'"
     ]
    }
   ],
   "source": [
    "num = [88,99,101,123]\n",
    "original = num\n",
    "reverse = 0\n",
    "\n",
    "while num > 0:\n",
    "    reverse = reverse * 10 \n",
    "\n",
    "if original == reverse:\n",
    "    print(original, \"is a Palindrome\")\n",
    "else:\n",
    "    print(original, \"is not a Palindrome\")\n"
   ]
  },
  {
   "cell_type": "code",
   "execution_count": null,
   "id": "2ced12b7-99b9-44a7-8107-75c77fbd720f",
   "metadata": {},
   "outputs": [],
   "source": [
    "# Encapsulation      \" public,protective,private  \""
   ]
  },
  {
   "cell_type": "code",
   "execution_count": 12,
   "id": "69b0f6e1-4cae-49e8-93a0-053bc04f5398",
   "metadata": {},
   "outputs": [
    {
     "name": "stdout",
     "output_type": "stream",
     "text": [
      "Bca\n",
      "dept: Bca\n"
     ]
    }
   ],
   "source": [
    "class Student:                                 # public\n",
    "    def __init__(self, dept):\n",
    "        self.dept = dept   \n",
    "\n",
    "    def display(self): \n",
    "        print(\"dept:\", self.dept)\n",
    "        \n",
    "s = Student(\"Bca\")\n",
    "print (s.dept)\n",
    "s.display()\n"
   ]
  },
  {
   "cell_type": "code",
   "execution_count": 16,
   "id": "73d518b2-e3f7-4f70-b7ab-e6df02f7999e",
   "metadata": {},
   "outputs": [
    {
     "name": "stdout",
     "output_type": "stream",
     "text": [
      "21\n",
      "Age: 21\n"
     ]
    }
   ],
   "source": [
    "class Student:                     #protective\n",
    "    def __init__(self, name, age):\n",
    "        self._age = age   \n",
    "        self.name = name\n",
    "\n",
    "class Check(Student):\n",
    "    def show(self):\n",
    "        print(\"Age:\", self._age) \n",
    "\n",
    "c = Check(\"Keerthiga\", 21)\n",
    "print (c._age)\n",
    "c.show()"
   ]
  },
  {
   "cell_type": "code",
   "execution_count": 19,
   "id": "ae0f065c-3974-4ba1-8033-bd3727e844e1",
   "metadata": {},
   "outputs": [
    {
     "name": "stdout",
     "output_type": "stream",
     "text": [
      "Keerthiga\n"
     ]
    },
    {
     "ename": "AttributeError",
     "evalue": "'function' object has no attribute '__mark'",
     "output_type": "error",
     "traceback": [
      "\u001b[1;31m---------------------------------------------------------------------------\u001b[0m",
      "\u001b[1;31mAttributeError\u001b[0m                            Traceback (most recent call last)",
      "Cell \u001b[1;32mIn[19], line 12\u001b[0m\n\u001b[0;32m     10\u001b[0m s \u001b[38;5;241m=\u001b[39m Student(\u001b[38;5;124m\"\u001b[39m\u001b[38;5;124mKeerthiga\u001b[39m\u001b[38;5;124m\"\u001b[39m,\u001b[38;5;241m90\u001b[39m)\n\u001b[0;32m     11\u001b[0m \u001b[38;5;28mprint\u001b[39m (s\u001b[38;5;241m.\u001b[39mname)\n\u001b[1;32m---> 12\u001b[0m s\u001b[38;5;241m.\u001b[39mshow\u001b[38;5;241m.\u001b[39m__mark()\n",
      "\u001b[1;31mAttributeError\u001b[0m: 'function' object has no attribute '__mark'"
     ]
    }
   ],
   "source": [
    "class Student:                         #private\n",
    "    def __init__(self, name, marks):\n",
    "        self.name = name          \n",
    "        self.__marks = marks      \n",
    "\n",
    "    def show(self):\n",
    "        print(\"Name:\", self.name)\n",
    "        print(\"Marks:\", self.__marks) \n",
    "\n",
    "s = Student(\"Keerthiga\",90)\n",
    "print (s.name)\n",
    "s.show.__mark()"
   ]
  },
  {
   "cell_type": "code",
   "execution_count": null,
   "id": "d87a0dfc-304d-43c0-9e65-b269f5281501",
   "metadata": {},
   "outputs": [],
   "source": [
    "# Base class\n",
    "class Student:\n",
    "    def __init__(self, name, age):\n",
    "        self.__age = age     # private variable (encapsulation)\n",
    "        self.name = name     # public variable\n",
    "\n",
    "    # getter method (to access private variable)\n",
    "    def get_age(self):\n",
    "        return self.__age\n",
    "\n",
    "    # setter method (to modify private variable safely)\n",
    "    def set_age(self, age):\n",
    "        if age > 0:\n",
    "            self.__age = age\n",
    "        else:\n",
    "            print(\"Invalid age\")\n",
    "\n",
    "# Child class inheriting from Student\n",
    "class Child(Student):\n",
    "    def display(self):\n",
    "        print(f\"Name: {self.name}, Age: {self.get_age()}\")\n",
    "\n",
    "\n",
    "# Using the classes\n",
    "c = Child(\"Keerthi\", 20)\n",
    "c.display()             \n",
    "\n",
    "c.display()            \n",
    "\n",
    "c.set_age(-5)            # invalid update\n",
    "c.display()              # Name: Keerthi, Age: 25\n"
   ]
  },
  {
   "cell_type": "code",
   "execution_count": null,
   "id": "aeb63a17-1916-47d1-a5b6-2e895792ff0a",
   "metadata": {},
   "outputs": [],
   "source": [
    "class BankAccount:\n",
    "    def __init__(self, balance):\n",
    "        self.__balance = balance\n",
    "\n",
    "    def get_balance(self):\n",
    "        return self.__balance\n",
    "\n",
    "class SavingsAccount(BankAccount):\n",
    "    def show_balance(self):\n",
    "        print(\"Account Balance:\", self.get_balance())\n",
    "\n",
    "\n",
    "acc = SavingsAccount(5000)\n",
    "acc.show_balance()     \n"
   ]
  },
  {
   "cell_type": "code",
   "execution_count": null,
   "id": "ffc86315-9f5f-4854-87ed-5e3b047bb46e",
   "metadata": {},
   "outputs": [],
   "source": [
    "# Home Word (Encapsulation using inheritance)"
   ]
  },
  {
   "cell_type": "code",
   "execution_count": 3,
   "id": "20a40759-e80a-42e3-bcf6-65354d1f1b41",
   "metadata": {},
   "outputs": [
    {
     "name": "stdout",
     "output_type": "stream",
     "text": [
      "Name: Keerthi\n",
      "Age: 20\n",
      "Salary: 50000\n",
      "Keerthi\n",
      "20\n",
      "50000\n"
     ]
    }
   ],
   "source": [
    "class Person:\n",
    "    def __init__(self, name, age, salary):\n",
    "        self.name = name            # public\n",
    "        self._age = age             # protected\n",
    "        self.__salary = salary      # private\n",
    "\n",
    "    def get_salary(self):\n",
    "        return self.__salary\n",
    "\n",
    "class Employee(Person):\n",
    "    def display(self):\n",
    "        print(\"Name:\", self.name)      \n",
    "        print(\"Age:\", self._age)           \n",
    "        print(\"Salary:\", self.get_salary())\n",
    "\n",
    "emp = Employee(\"Keerthi\", 20, 50000)\n",
    "emp.display()\n",
    "\n",
    "print(emp.name)     \n",
    "print(emp._age)      \n",
    "print(emp.get_salary())  \n"
   ]
  },
  {
   "cell_type": "code",
   "execution_count": null,
   "id": "dec916b6-0384-473e-8e59-4ca1482561b9",
   "metadata": {},
   "outputs": [],
   "source": []
  }
 ],
 "metadata": {
  "kernelspec": {
   "display_name": "Python 3 (ipykernel)",
   "language": "python",
   "name": "python3"
  },
  "language_info": {
   "codemirror_mode": {
    "name": "ipython",
    "version": 3
   },
   "file_extension": ".py",
   "mimetype": "text/x-python",
   "name": "python",
   "nbconvert_exporter": "python",
   "pygments_lexer": "ipython3",
   "version": "3.13.5"
  }
 },
 "nbformat": 4,
 "nbformat_minor": 5
}
