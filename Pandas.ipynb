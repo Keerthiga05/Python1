{
 "cells": [
  {
   "cell_type": "code",
   "execution_count": 8,
   "id": "7d7ef6ea-7cf6-4c76-a0f9-76c0af184812",
   "metadata": {},
   "outputs": [
    {
     "name": "stdout",
     "output_type": "stream",
     "text": [
      "      name  tamil  english  maths\n",
      "0  keerthi     90       22     90\n",
      "1   megala     80       44     89\n",
      "2    jothi     67       69     66\n",
      "name       megala\n",
      "tamil          80\n",
      "english        44\n",
      "maths          89\n",
      "Name: 1, dtype: object\n"
     ]
    }
   ],
   "source": [
    "import pandas as pd \n",
    "\n",
    "student={\"name\":[\"keerthi\",\"megala\",\"jothi\"],\n",
    "         \"tamil\":[90,80,67],\n",
    "         \"english\":[22,44,69],\n",
    "         \"maths\":[90,89,66]}\n",
    "\n",
    "dataframe=pd.DataFrame(student)\n",
    "print(dataframe)\n",
    "\n",
    "print(dataframe.loc[1])"
   ]
  },
  {
   "cell_type": "code",
   "execution_count": 9,
   "id": "db9993ad-464c-4184-a19e-57a55a838f05",
   "metadata": {},
   "outputs": [
    {
     "data": {
      "text/html": [
       "<div>\n",
       "<style scoped>\n",
       "    .dataframe tbody tr th:only-of-type {\n",
       "        vertical-align: middle;\n",
       "    }\n",
       "\n",
       "    .dataframe tbody tr th {\n",
       "        vertical-align: top;\n",
       "    }\n",
       "\n",
       "    .dataframe thead th {\n",
       "        text-align: right;\n",
       "    }\n",
       "</style>\n",
       "<table border=\"1\" class=\"dataframe\">\n",
       "  <thead>\n",
       "    <tr style=\"text-align: right;\">\n",
       "      <th></th>\n",
       "      <th>name</th>\n",
       "      <th>tamil</th>\n",
       "      <th>english</th>\n",
       "      <th>maths</th>\n",
       "    </tr>\n",
       "  </thead>\n",
       "  <tbody>\n",
       "    <tr>\n",
       "      <th>1</th>\n",
       "      <td>keerthi</td>\n",
       "      <td>90</td>\n",
       "      <td>22</td>\n",
       "      <td>90</td>\n",
       "    </tr>\n",
       "    <tr>\n",
       "      <th>2</th>\n",
       "      <td>megala</td>\n",
       "      <td>80</td>\n",
       "      <td>44</td>\n",
       "      <td>89</td>\n",
       "    </tr>\n",
       "    <tr>\n",
       "      <th>3</th>\n",
       "      <td>jothi</td>\n",
       "      <td>67</td>\n",
       "      <td>69</td>\n",
       "      <td>66</td>\n",
       "    </tr>\n",
       "  </tbody>\n",
       "</table>\n",
       "</div>"
      ],
      "text/plain": [
       "      name  tamil  english  maths\n",
       "1  keerthi     90       22     90\n",
       "2   megala     80       44     89\n",
       "3    jothi     67       69     66"
      ]
     },
     "execution_count": 9,
     "metadata": {},
     "output_type": "execute_result"
    }
   ],
   "source": [
    "import pandas as pd \n",
    "student={\"name\":[\"keerthi\",\"megala\",\"jothi\"],\n",
    "         \"tamil\":[90,80,67],\n",
    "         \"english\":[22,44,69],\n",
    "         \"maths\":[90,89,66]}\n",
    "\n",
    "\n",
    "\n",
    "df = pd.DataFrame(student, index = [1,2,3])\n",
    "\n",
    "df\n"
   ]
  },
  {
   "cell_type": "code",
   "execution_count": 9,
   "id": "ff224cd6-c702-4a7f-8f10-65e5323b59f4",
   "metadata": {},
   "outputs": [
    {
     "name": "stdout",
     "output_type": "stream",
     "text": [
      "    name  marks\n",
      "1   Sita     78\n",
      "2   Ravi     56\n",
      "3    Anu     89\n",
      "4  Kumar     67\n",
      "5  Indhu     90\n"
     ]
    }
   ],
   "source": [
    "# Dictionary Slicing\n",
    "\n",
    "import pandas as pd\n",
    "data = {\"name\": [\"Ram\", \"Sita\", \"Ravi\", \"Anu\", \"Kumar\", \"Indhu\", \"Vijay\", \"Karthik\"],\n",
    "        \"marks\": [45, 78, 56, 89, 67, 90, 34,45]}\n",
    "df = pd.DataFrame(data)\n",
    "sliced = df.iloc[1:6]   \n",
    "print(sliced)"
   ]
  },
  {
   "cell_type": "code",
   "execution_count": 2,
   "id": "6bddc041-f260-46cf-b0fe-d67399f92a6c",
   "metadata": {},
   "outputs": [
    {
     "name": "stdout",
     "output_type": "stream",
     "text": [
      "\n",
      "Tamil marks > 90:\n"
     ]
    },
    {
     "ename": "KeyError",
     "evalue": "\"['Name'] not in index\"",
     "output_type": "error",
     "traceback": [
      "\u001b[1;31m---------------------------------------------------------------------------\u001b[0m",
      "\u001b[1;31mKeyError\u001b[0m                                  Traceback (most recent call last)",
      "Cell \u001b[1;32mIn[2], line 6\u001b[0m\n\u001b[0;32m      4\u001b[0m tamil\u001b[38;5;241m=\u001b[39mdata[data[\u001b[38;5;124m\"\u001b[39m\u001b[38;5;124mTamil\u001b[39m\u001b[38;5;124m\"\u001b[39m]\u001b[38;5;241m>\u001b[39m\u001b[38;5;241m=\u001b[39m\u001b[38;5;241m90\u001b[39m]\n\u001b[0;32m      5\u001b[0m \u001b[38;5;28mprint\u001b[39m(\u001b[38;5;124m\"\u001b[39m\u001b[38;5;130;01m\\n\u001b[39;00m\u001b[38;5;124mTamil marks > 90:\u001b[39m\u001b[38;5;124m\"\u001b[39m)\n\u001b[1;32m----> 6\u001b[0m \u001b[38;5;28mprint\u001b[39m(tamil[[\u001b[38;5;124m\"\u001b[39m\u001b[38;5;124mName\u001b[39m\u001b[38;5;124m\"\u001b[39m, \u001b[38;5;124m\"\u001b[39m\u001b[38;5;124mTamil\u001b[39m\u001b[38;5;124m\"\u001b[39m]])\n",
      "File \u001b[1;32mC:\\ProgramData\\anaconda3\\Lib\\site-packages\\pandas\\core\\frame.py:4108\u001b[0m, in \u001b[0;36mDataFrame.__getitem__\u001b[1;34m(self, key)\u001b[0m\n\u001b[0;32m   4106\u001b[0m     \u001b[38;5;28;01mif\u001b[39;00m is_iterator(key):\n\u001b[0;32m   4107\u001b[0m         key \u001b[38;5;241m=\u001b[39m \u001b[38;5;28mlist\u001b[39m(key)\n\u001b[1;32m-> 4108\u001b[0m     indexer \u001b[38;5;241m=\u001b[39m \u001b[38;5;28mself\u001b[39m\u001b[38;5;241m.\u001b[39mcolumns\u001b[38;5;241m.\u001b[39m_get_indexer_strict(key, \u001b[38;5;124m\"\u001b[39m\u001b[38;5;124mcolumns\u001b[39m\u001b[38;5;124m\"\u001b[39m)[\u001b[38;5;241m1\u001b[39m]\n\u001b[0;32m   4110\u001b[0m \u001b[38;5;66;03m# take() does not accept boolean indexers\u001b[39;00m\n\u001b[0;32m   4111\u001b[0m \u001b[38;5;28;01mif\u001b[39;00m \u001b[38;5;28mgetattr\u001b[39m(indexer, \u001b[38;5;124m\"\u001b[39m\u001b[38;5;124mdtype\u001b[39m\u001b[38;5;124m\"\u001b[39m, \u001b[38;5;28;01mNone\u001b[39;00m) \u001b[38;5;241m==\u001b[39m \u001b[38;5;28mbool\u001b[39m:\n",
      "File \u001b[1;32mC:\\ProgramData\\anaconda3\\Lib\\site-packages\\pandas\\core\\indexes\\base.py:6200\u001b[0m, in \u001b[0;36mIndex._get_indexer_strict\u001b[1;34m(self, key, axis_name)\u001b[0m\n\u001b[0;32m   6197\u001b[0m \u001b[38;5;28;01melse\u001b[39;00m:\n\u001b[0;32m   6198\u001b[0m     keyarr, indexer, new_indexer \u001b[38;5;241m=\u001b[39m \u001b[38;5;28mself\u001b[39m\u001b[38;5;241m.\u001b[39m_reindex_non_unique(keyarr)\n\u001b[1;32m-> 6200\u001b[0m \u001b[38;5;28mself\u001b[39m\u001b[38;5;241m.\u001b[39m_raise_if_missing(keyarr, indexer, axis_name)\n\u001b[0;32m   6202\u001b[0m keyarr \u001b[38;5;241m=\u001b[39m \u001b[38;5;28mself\u001b[39m\u001b[38;5;241m.\u001b[39mtake(indexer)\n\u001b[0;32m   6203\u001b[0m \u001b[38;5;28;01mif\u001b[39;00m \u001b[38;5;28misinstance\u001b[39m(key, Index):\n\u001b[0;32m   6204\u001b[0m     \u001b[38;5;66;03m# GH 42790 - Preserve name from an Index\u001b[39;00m\n",
      "File \u001b[1;32mC:\\ProgramData\\anaconda3\\Lib\\site-packages\\pandas\\core\\indexes\\base.py:6252\u001b[0m, in \u001b[0;36mIndex._raise_if_missing\u001b[1;34m(self, key, indexer, axis_name)\u001b[0m\n\u001b[0;32m   6249\u001b[0m     \u001b[38;5;28;01mraise\u001b[39;00m \u001b[38;5;167;01mKeyError\u001b[39;00m(\u001b[38;5;124mf\u001b[39m\u001b[38;5;124m\"\u001b[39m\u001b[38;5;124mNone of [\u001b[39m\u001b[38;5;132;01m{\u001b[39;00mkey\u001b[38;5;132;01m}\u001b[39;00m\u001b[38;5;124m] are in the [\u001b[39m\u001b[38;5;132;01m{\u001b[39;00maxis_name\u001b[38;5;132;01m}\u001b[39;00m\u001b[38;5;124m]\u001b[39m\u001b[38;5;124m\"\u001b[39m)\n\u001b[0;32m   6251\u001b[0m not_found \u001b[38;5;241m=\u001b[39m \u001b[38;5;28mlist\u001b[39m(ensure_index(key)[missing_mask\u001b[38;5;241m.\u001b[39mnonzero()[\u001b[38;5;241m0\u001b[39m]]\u001b[38;5;241m.\u001b[39munique())\n\u001b[1;32m-> 6252\u001b[0m \u001b[38;5;28;01mraise\u001b[39;00m \u001b[38;5;167;01mKeyError\u001b[39;00m(\u001b[38;5;124mf\u001b[39m\u001b[38;5;124m\"\u001b[39m\u001b[38;5;132;01m{\u001b[39;00mnot_found\u001b[38;5;132;01m}\u001b[39;00m\u001b[38;5;124m not in index\u001b[39m\u001b[38;5;124m\"\u001b[39m)\n",
      "\u001b[1;31mKeyError\u001b[0m: \"['Name'] not in index\""
     ]
    }
   ],
   "source": [
    "import pandas as pd\n",
    "data=pd.read_excel(r\"C:/Users/KEERTHIGA/Documents/py/mark.xlsx\")\n",
    "\n",
    "tamil=data[data[\"Tamil\"]>=90]\n",
    "print(\"\\nTamil marks > 90:\")\n",
    "print(tamil[[\"Name\", \"Tamil\"]])"
   ]
  },
  {
   "cell_type": "code",
   "execution_count": null,
   "id": "0280b868-64db-4b08-bd05-80cf19048543",
   "metadata": {},
   "outputs": [],
   "source": [
    "# head(first value)\n",
    "# tail(last value)\n",
    "# mean(overall)\n",
    "# info -information (data type,non null)\n"
   ]
  },
  {
   "cell_type": "code",
   "execution_count": null,
   "id": "1445bd09-c5d9-4509-a335-4511073883a3",
   "metadata": {},
   "outputs": [],
   "source": [
    "# task"
   ]
  },
  {
   "cell_type": "code",
   "execution_count": 3,
   "id": "35df9355-0f79-47c7-97aa-c0d679969b4e",
   "metadata": {},
   "outputs": [
    {
     "name": "stdout",
     "output_type": "stream",
     "text": [
      "    *\n",
      "   * *\n",
      "  * * *\n",
      " * * * *\n",
      "* * * * *\n"
     ]
    }
   ],
   "source": [
    "print(\"    *\")\n",
    "print(\"   * *\")\n",
    "print(\"  * * *\")\n",
    "print(\" * * * *\")\n",
    "print(\"* * * * *\")"
   ]
  },
  {
   "cell_type": "code",
   "execution_count": 5,
   "id": "b3d5550d-bdd1-4c00-9acc-4523d29a354d",
   "metadata": {},
   "outputs": [
    {
     "name": "stdout",
     "output_type": "stream",
     "text": [
      "* * * * * \n",
      " * * * * \n",
      "  * * * \n",
      "   * * \n",
      "    * \n"
     ]
    }
   ],
   "source": [
    "#reverse\n",
    "rows = 5\n",
    "\n",
    "for i in range(rows, 0, -1):\n",
    "    print(\" \" * (rows - i) + \"* \" * i)\n"
   ]
  },
  {
   "cell_type": "code",
   "execution_count": 6,
   "id": "e17251c9-4071-433b-b334-8310a8490eb1",
   "metadata": {},
   "outputs": [
    {
     "name": "stdout",
     "output_type": "stream",
     "text": [
      "* * * * *\n",
      " * * * *\n",
      "  * * *\n",
      "   * *\n",
      "    *\n"
     ]
    }
   ],
   "source": [
    "print(\"* * * * *\") \n",
    "print(\" * * * *\")\n",
    "print(\"  * * *\")\n",
    "print(\"   * *\") \n",
    "print(\"    *\") "
   ]
  },
  {
   "cell_type": "code",
   "execution_count": null,
   "id": "e92bc8de-5f82-41fb-9a7c-8939d4aa0430",
   "metadata": {},
   "outputs": [],
   "source": []
  }
 ],
 "metadata": {
  "kernelspec": {
   "display_name": "Python 3 (ipykernel)",
   "language": "python",
   "name": "python3"
  },
  "language_info": {
   "codemirror_mode": {
    "name": "ipython",
    "version": 3
   },
   "file_extension": ".py",
   "mimetype": "text/x-python",
   "name": "python",
   "nbconvert_exporter": "python",
   "pygments_lexer": "ipython3",
   "version": "3.13.5"
  }
 },
 "nbformat": 4,
 "nbformat_minor": 5
}
