{
 "cells": [
  {
   "cell_type": "code",
   "execution_count": null,
   "id": "610ff1f1-77a3-4c09-b3a7-790d1dfe994d",
   "metadata": {},
   "outputs": [],
   "source": [
    "# functions   "
   ]
  },
  {
   "cell_type": "code",
   "execution_count": 5,
   "id": "fa0638de-9047-4317-9167-f3c5511a4660",
   "metadata": {},
   "outputs": [
    {
     "name": "stdout",
     "output_type": "stream",
     "text": [
      "4\n",
      "11\n"
     ]
    }
   ],
   "source": [
    "def add(a,b):\n",
    "    result=a+b\n",
    "    return result\n",
    "print(k)\n",
    "\n",
    "new=add(5,6)\n",
    "print(new)\n"
   ]
  },
  {
   "cell_type": "code",
   "execution_count": null,
   "id": "bb125d06-307c-49f8-ac80-368d1898ed47",
   "metadata": {},
   "outputs": [],
   "source": [
    "# Addition"
   ]
  },
  {
   "cell_type": "code",
   "execution_count": 9,
   "id": "28a1575b-e7ca-48e1-a99d-2c53f16a6cba",
   "metadata": {},
   "outputs": [
    {
     "name": "stdin",
     "output_type": "stream",
     "text": [
      "enter your 1st value: 2\n",
      "enter your 2nd value: 3\n"
     ]
    },
    {
     "name": "stdout",
     "output_type": "stream",
     "text": [
      "5\n"
     ]
    }
   ],
   "source": [
    "def add():\n",
    "    a=int(input(\"enter your 1st value:\"))\n",
    "    b=int(input(\"enter your 2nd value:\"))\n",
    "    print(a+b)\n",
    "add()\n",
    "    "
   ]
  },
  {
   "cell_type": "code",
   "execution_count": null,
   "id": "a0e1efd0-db33-4151-b261-7b831a16f335",
   "metadata": {},
   "outputs": [],
   "source": [
    "# Subtraction"
   ]
  },
  {
   "cell_type": "code",
   "execution_count": 10,
   "id": "c2df0112-35fb-4534-8ca2-e750be4e0230",
   "metadata": {},
   "outputs": [
    {
     "name": "stdout",
     "output_type": "stream",
     "text": [
      "subtraction\n"
     ]
    },
    {
     "name": "stdin",
     "output_type": "stream",
     "text": [
      "enter a: 2\n",
      "enter b: 3\n"
     ]
    },
    {
     "name": "stdout",
     "output_type": "stream",
     "text": [
      "-1\n"
     ]
    }
   ],
   "source": [
    "def sub():\n",
    "    print(\"subtraction\")\n",
    "    a=int(input(\"enter a:\"))\n",
    "    b=int(input(\"enter b:\"))\n",
    "    print(a-b)\n",
    "sub()"
   ]
  },
  {
   "cell_type": "code",
   "execution_count": null,
   "id": "a5d150de-35cb-4d1b-a0b5-a93dde79a640",
   "metadata": {},
   "outputs": [],
   "source": [
    "# Multiplication"
   ]
  },
  {
   "cell_type": "code",
   "execution_count": 13,
   "id": "2e434a56-42f9-493e-94f5-b721fc630adc",
   "metadata": {},
   "outputs": [
    {
     "name": "stdout",
     "output_type": "stream",
     "text": [
      "Mulitiplication\n"
     ]
    },
    {
     "name": "stdin",
     "output_type": "stream",
     "text": [
      "enter a: 2\n",
      "enter b: 2\n"
     ]
    },
    {
     "name": "stdout",
     "output_type": "stream",
     "text": [
      "4\n"
     ]
    }
   ],
   "source": [
    "def mul():\n",
    "    print(\"Mulitiplication\")\n",
    "    a=int(input(\"enter a:\"))\n",
    "    b=int(input(\"enter b:\"))\n",
    "    print(a*b)\n",
    "mul()"
   ]
  },
  {
   "cell_type": "code",
   "execution_count": 16,
   "id": "ad3ae225-6e05-4c06-91fd-f207cfe3060b",
   "metadata": {},
   "outputs": [
    {
     "name": "stdout",
     "output_type": "stream",
     "text": [
      "Division\n"
     ]
    },
    {
     "name": "stdin",
     "output_type": "stream",
     "text": [
      "enter a: 4\n",
      "enter b: 2\n"
     ]
    },
    {
     "name": "stdout",
     "output_type": "stream",
     "text": [
      "2.0\n"
     ]
    }
   ],
   "source": [
    "def div():\n",
    "    print(\"Division\")\n",
    "    a=int(input(\"enter a:\"))\n",
    "    b=int(input(\"enter b:\"))\n",
    "    print(a/b)\n",
    "div()\n",
    "    "
   ]
  },
  {
   "cell_type": "code",
   "execution_count": null,
   "id": "004961f8-85e0-410e-97a4-c28ddeddcf99",
   "metadata": {},
   "outputs": [],
   "source": [
    "# using mulitiple function "
   ]
  },
  {
   "cell_type": "code",
   "execution_count": 22,
   "id": "17212d70-d07a-49e0-a38f-3d356793e2f7",
   "metadata": {},
   "outputs": [
    {
     "name": "stdin",
     "output_type": "stream",
     "text": [
      "enter your 1st value: 2\n",
      "enter your 2nd value: 3\n"
     ]
    },
    {
     "name": "stdout",
     "output_type": "stream",
     "text": [
      "5\n",
      "Division\n"
     ]
    },
    {
     "name": "stdin",
     "output_type": "stream",
     "text": [
      "enter a: 10\n",
      "enter b: 2\n"
     ]
    },
    {
     "name": "stdout",
     "output_type": "stream",
     "text": [
      "5.0\n"
     ]
    }
   ],
   "source": [
    "def add():\n",
    "    print(\"addition\")\n",
    "    a=int(input(\"enter your 1st value:\"))\n",
    "    b=int(input(\"enter your 2nd value:\"))\n",
    "    print(a+b)\n",
    "\n",
    "def sub():\n",
    "    print(\"subtraction\")\n",
    "    a=int(input(\"enter a:\"))\n",
    "    b=int(input(\"enter b:\"))\n",
    "    print(a-b)\n",
    "\n",
    "def mul():\n",
    "    print(\"Mulitiplication\")\n",
    "    a=int(input(\"enter a:\"))\n",
    "    b=int(input(\"enter b:\"))\n",
    "    print(a*b)\n",
    "\n",
    "def div():\n",
    "    print(\"Division\")\n",
    "    a=int(input(\"enter a:\"))\n",
    "    b=int(input(\"enter b:\"))\n",
    "    print(a/b)\n",
    "\n",
    "add()\n",
    "div()\n",
    "\n"
   ]
  },
  {
   "cell_type": "code",
   "execution_count": null,
   "id": "041a08c4-5b23-4e14-beac-d61f06e960a9",
   "metadata": {},
   "outputs": [],
   "source": [
    "# Using parameters"
   ]
  },
  {
   "cell_type": "code",
   "execution_count": 25,
   "id": "20960081-acbc-410b-b287-b88803000931",
   "metadata": {},
   "outputs": [
    {
     "name": "stdout",
     "output_type": "stream",
     "text": [
      "department: BCA department\n"
     ]
    }
   ],
   "source": [
    "def college(dept):\n",
    "    print(\"department:\",dept)\n",
    "college(\"BCA department\")"
   ]
  },
  {
   "cell_type": "code",
   "execution_count": null,
   "id": "74e1e7b9-54e3-4a48-8622-d481420875f2",
   "metadata": {},
   "outputs": [],
   "source": [
    "# homework (anagram)"
   ]
  },
  {
   "cell_type": "code",
   "execution_count": 2,
   "id": "7a586b92-8aa7-4d26-bbe1-7eea5e83d8e0",
   "metadata": {},
   "outputs": [
    {
     "name": "stdin",
     "output_type": "stream",
     "text": [
      "Enter first string:  silent\n",
      "Enter second string:  lisent\n"
     ]
    },
    {
     "name": "stdout",
     "output_type": "stream",
     "text": [
      "Anagram\n"
     ]
    }
   ],
   "source": [
    "def anagram(str1, str2):\n",
    "    if len(str1) != len(str2):\n",
    "        return False\n",
    "    else:\n",
    "        str2_list = list(str2)\n",
    "\n",
    "        for ch in str1:\n",
    "            if ch in str2_list:       # if char exists\n",
    "                str2_list.remove(ch)  # remove it so it can’t be reused\n",
    "            else:\n",
    "                return False\n",
    "        return True\n",
    "\n",
    "\n",
    "# Main program\n",
    "s1 = input(\"Enter first string: \")\n",
    "s2 = input(\"Enter second string: \")\n",
    "\n",
    "if anagram(s1, s2):\n",
    "    print(\"Anagram\")\n",
    "else:\n",
    "    print(\"Not Anagram\")"
   ]
  },
  {
   "cell_type": "code",
   "execution_count": null,
   "id": "906c75a0-b8fe-4466-8321-befca4c47e07",
   "metadata": {},
   "outputs": [],
   "source": []
  }
 ],
 "metadata": {
  "kernelspec": {
   "display_name": "Python 3 (ipykernel)",
   "language": "python",
   "name": "python3"
  },
  "language_info": {
   "codemirror_mode": {
    "name": "ipython",
    "version": 3
   },
   "file_extension": ".py",
   "mimetype": "text/x-python",
   "name": "python",
   "nbconvert_exporter": "python",
   "pygments_lexer": "ipython3",
   "version": "3.13.5"
  }
 },
 "nbformat": 4,
 "nbformat_minor": 5
}
