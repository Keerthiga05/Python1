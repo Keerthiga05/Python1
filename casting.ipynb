{
 "cells": [
  {
   "cell_type": "code",
   "execution_count": 19,
   "id": "53f16629-74a9-4191-bd84-38108fdfcbb8",
   "metadata": {},
   "outputs": [
    {
     "name": "stdout",
     "output_type": "stream",
     "text": [
      "8\n",
      "k1\n",
      "(8.9+0j)\n"
     ]
    }
   ],
   "source": [
    "k1=8.9\n",
    "print(int(k1))\n",
    "print(str(k1))\n",
    "print(complex(k1))"
   ]
  },
  {
   "cell_type": "code",
   "execution_count": 15,
   "id": "1b43558f-2260-42b0-a0ae-777374fcebf5",
   "metadata": {},
   "outputs": [
    {
     "name": "stdout",
     "output_type": "stream",
     "text": [
      "7\n",
      "7.0\n",
      "(7+0j)\n"
     ]
    }
   ],
   "source": [
    "k2='7'\n",
    "print(int(k2))\n",
    "print(float(k2))\n",
    "print(complex(k2))"
   ]
  },
  {
   "cell_type": "code",
   "execution_count": 18,
   "id": "9c7aa98b-aeb6-4630-a5e6-fdd01d3747e7",
   "metadata": {},
   "outputs": [
    {
     "name": "stdout",
     "output_type": "stream",
     "text": [
      "(1+3j)\n"
     ]
    }
   ],
   "source": [
    "k3=1+3j\n",
    "print(str(k3))\n",
    "print(float(k3))\n",
    "print(int(k3))"
   ]
  },
  {
   "cell_type": "code",
   "execution_count": null,
   "id": "ee02abdd-b0ce-4574-ae87-dae9de9d2a58",
   "metadata": {},
   "outputs": [],
   "source": []
  }
 ],
 "metadata": {
  "kernelspec": {
   "display_name": "Python 3 (ipykernel)",
   "language": "python",
   "name": "python3"
  },
  "language_info": {
   "codemirror_mode": {
    "name": "ipython",
    "version": 3
   },
   "file_extension": ".py",
   "mimetype": "text/x-python",
   "name": "python",
   "nbconvert_exporter": "python",
   "pygments_lexer": "ipython3",
   "version": "3.13.5"
  }
 },
 "nbformat": 4,
 "nbformat_minor": 5
}
