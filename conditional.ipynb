{
 "cells": [
  {
   "cell_type": "code",
   "execution_count": null,
   "id": "363b3041-9a66-4254-ab3e-b6787d2b9acc",
   "metadata": {},
   "outputs": [],
   "source": [
    "#conditional statement"
   ]
  },
  {
   "cell_type": "code",
   "execution_count": 1,
   "id": "afaa0082-c9c8-41c4-8022-0c5b8f8bd731",
   "metadata": {},
   "outputs": [
    {
     "name": "stdout",
     "output_type": "stream",
     "text": [
      "10\n"
     ]
    }
   ],
   "source": [
    "a=5\n",
    "b=10\n",
    "c=6\n",
    "if (a < b):\n",
    "    print (b)\n",
    "else:\n",
    "    print (a)\n",
    "  "
   ]
  },
  {
   "cell_type": "code",
   "execution_count": 7,
   "id": "30fac0ad-0be2-43f1-8ad7-0ceec734833c",
   "metadata": {},
   "outputs": [
    {
     "name": "stdout",
     "output_type": "stream",
     "text": [
      "10\n"
     ]
    }
   ],
   "source": [
    "if(a>b>c):\n",
    "    print (a)\n",
    "elif(b>c):\n",
    "    print(b)\n",
    "else:\n",
    "    print('no result')"
   ]
  },
  {
   "cell_type": "code",
   "execution_count": 11,
   "id": "1929c5ae-6303-4dea-87f5-d8a73da57d9d",
   "metadata": {},
   "outputs": [
    {
     "name": "stdout",
     "output_type": "stream",
     "text": [
      "define\n"
     ]
    }
   ],
   "source": [
    "a=\"apple\"\n",
    "if 'a' in a:\n",
    "    print(\"define\")\n",
    "else:\n",
    "    print(\"not define\")"
   ]
  },
  {
   "cell_type": "code",
   "execution_count": null,
   "id": "2e80ea2d-376a-44b0-ae4c-4415079303ad",
   "metadata": {},
   "outputs": [],
   "source": []
  }
 ],
 "metadata": {
  "kernelspec": {
   "display_name": "Python 3 (ipykernel)",
   "language": "python",
   "name": "python3"
  },
  "language_info": {
   "codemirror_mode": {
    "name": "ipython",
    "version": 3
   },
   "file_extension": ".py",
   "mimetype": "text/x-python",
   "name": "python",
   "nbconvert_exporter": "python",
   "pygments_lexer": "ipython3",
   "version": "3.13.5"
  }
 },
 "nbformat": 4,
 "nbformat_minor": 5
}
