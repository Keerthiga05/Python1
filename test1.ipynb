{
 "cells": [
  {
   "cell_type": "code",
   "execution_count": 1,
   "id": "29555848-c36f-45b3-9ee2-a68805d785ea",
   "metadata": {},
   "outputs": [
    {
     "name": "stdin",
     "output_type": "stream",
     "text": [
      "Enter size of the list:  4\n",
      "Enter element 1:  1\n",
      "Enter element 2:  9\n",
      "Enter element 3:  7\n",
      "Enter element 4:  9\n"
     ]
    },
    {
     "name": "stdout",
     "output_type": "stream",
     "text": [
      "List: [1, 9, 7, 9]\n",
      "The Minimum Number in List is: 1\n",
      "The Maximum Number in List is: 9\n"
     ]
    }
   ],
   "source": [
    "n = int(input(\"Enter size of the list: \"))\n",
    "Numbers = []\n",
    "\n",
    "for i in range(n):\n",
    "    val = int(input(f\"Enter element {i+1}: \"))\n",
    "    Numbers.append(val)\n",
    "\n",
    "print(\"List:\", Numbers)\n",
    "\n",
    "# Sorting method\n",
    "Numbers.sort()\n",
    "print(\"The Minimum Number in List is:\", Numbers[0])\n",
    "print(\"The Maximum Number in List is:\", Numbers[-1])\n"
   ]
  },
  {
   "cell_type": "code",
   "execution_count": 1,
   "id": "8d9ac61a-8c35-4a40-96d7-b8f4eeef9c1d",
   "metadata": {},
   "outputs": [
    {
     "name": "stdin",
     "output_type": "stream",
     "text": [
      "Enter the size of the list: 4\n",
      "Enter Element 1: 1\n",
      "Enter Element 2: 2\n",
      "Enter Element 3: 3\n",
      "Enter Element 4: 4\n"
     ]
    },
    {
     "name": "stdout",
     "output_type": "stream",
     "text": [
      "Ascending Order: [1, 2, 3, 4]\n",
      "Descending Order: [4, 3, 2, 1]\n"
     ]
    }
   ],
   "source": [
    "# acending and decensing\n",
    "num=int(input(\"Enter the size of the list:\"))\n",
    "l=[]\n",
    "for i in range(num):\n",
    "    val=int(input(f\"Enter Element {i+1}:\"))\n",
    "    l.append(val)\n",
    "    \n",
    "n=len(l)\n",
    "\n",
    "for i in range(n):\n",
    "    for j in range(0,n-i-1):\n",
    "        if l[j]>l[j+1]:\n",
    "            l[j],l[j+1]=l[j+1],l[j]\n",
    "print(\"Ascending Order:\",l)\n",
    "\n",
    "for i in range(n):\n",
    "    for j in range(0,n-i-1):\n",
    "        if l[j]<l[j+1]:\n",
    "            l[j],l[j+1]=l[j+1],l[j]\n",
    "print(\"Descending Order:\",l)"
   ]
  },
  {
   "cell_type": "code",
   "execution_count": 2,
   "id": "500c16a1-93d0-4f56-952f-26652f757e9a",
   "metadata": {},
   "outputs": [
    {
     "name": "stdin",
     "output_type": "stream",
     "text": [
      "Enter a String: keerthi\n"
     ]
    },
    {
     "name": "stdout",
     "output_type": "stream",
     "text": [
      "ihtreek\n"
     ]
    }
   ],
   "source": [
    "# reversing a stirng\n",
    "string=input(\"Enter a String:\")\n",
    "reverse_string=string[::-1]\n",
    "print(reverse_string)"
   ]
  },
  {
   "cell_type": "code",
   "execution_count": 3,
   "id": "7fb06ff2-54bb-4e13-94b5-d79d3a152c1b",
   "metadata": {},
   "outputs": [
    {
     "name": "stdin",
     "output_type": "stream",
     "text": [
      "Enter a Text: keerthiga\n"
     ]
    },
    {
     "name": "stdout",
     "output_type": "stream",
     "text": [
      "Number of Vowels in a String: 4\n"
     ]
    }
   ],
   "source": [
    "#vowels\n",
    "text=input(\"Enter a Text:\")\n",
    "vowels=\"aeiouAEIOU\"\n",
    "count=0\n",
    "\n",
    "for ch in text:\n",
    "    if ch in vowels:\n",
    "        count+=1\n",
    "print(\"Number of Vowels in a String:\",count)"
   ]
  },
  {
   "cell_type": "code",
   "execution_count": null,
   "id": "e6e6aab2-7cd6-4a39-80b6-37c807e1ea15",
   "metadata": {},
   "outputs": [],
   "source": []
  }
 ],
 "metadata": {
  "kernelspec": {
   "display_name": "Python 3 (ipykernel)",
   "language": "python",
   "name": "python3"
  },
  "language_info": {
   "codemirror_mode": {
    "name": "ipython",
    "version": 3
   },
   "file_extension": ".py",
   "mimetype": "text/x-python",
   "name": "python",
   "nbconvert_exporter": "python",
   "pygments_lexer": "ipython3",
   "version": "3.13.5"
  }
 },
 "nbformat": 4,
 "nbformat_minor": 5
}
