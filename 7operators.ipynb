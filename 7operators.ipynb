{
 "cells": [
  {
   "cell_type": "code",
   "execution_count": null,
   "id": "5d293730-8e9a-488d-b72e-3f3271a592f1",
   "metadata": {},
   "outputs": [],
   "source": [
    "#operators"
   ]
  },
  {
   "cell_type": "code",
   "execution_count": null,
   "id": "5ecd1a52-d735-4252-8656-02735617bed7",
   "metadata": {},
   "outputs": [],
   "source": [
    "# 1.arithmetic operator"
   ]
  },
  {
   "cell_type": "code",
   "execution_count": 1,
   "id": "b333203b-7d01-4c61-be81-5333dbfea57f",
   "metadata": {},
   "outputs": [
    {
     "name": "stdout",
     "output_type": "stream",
     "text": [
      "13\n",
      "7\n",
      "30\n",
      "3.3333333333333335\n",
      "3\n",
      "1\n",
      "1000\n"
     ]
    }
   ],
   "source": [
    "a = 10\n",
    "b = 3\n",
    "\n",
    "print(a + b)   # Addition \n",
    "print(a - b)   # Subtraction \n",
    "print(a * b)   # Multiplication \n",
    "print(a / b)   # Division \n",
    "print(a // b)  # Floor Division \n",
    "print(a % b)   # Modulus \n",
    "print(a ** b)  # Exponentiation "
   ]
  },
  {
   "cell_type": "code",
   "execution_count": null,
   "id": "99d60cd6-f37a-4a98-83ad-5594d6586b1d",
   "metadata": {},
   "outputs": [],
   "source": [
    "# 2. assignment operator"
   ]
  },
  {
   "cell_type": "code",
   "execution_count": 3,
   "id": "4274d899-21f0-4d1d-aa80-37810dabb919",
   "metadata": {},
   "outputs": [
    {
     "name": "stdout",
     "output_type": "stream",
     "text": [
      "8\n",
      "6\n",
      "24\n",
      "4.0\n",
      "1.0\n"
     ]
    }
   ],
   "source": [
    "n = 5\n",
    "n += 3   # n = n + 3 → 8\n",
    "print(n)\n",
    "\n",
    "n -= 2   # n = n - 2 → 6\n",
    "print(n)\n",
    "\n",
    "n*= 4   # n = n * 4 → 24\n",
    "print(n)\n",
    "\n",
    "n /= 6   # n = n / 6 → 4.0\n",
    "print(n)\n",
    "\n",
    "n%= 3   # n = n % 3 → 1.0\n",
    "print(n)\n"
   ]
  },
  {
   "cell_type": "code",
   "execution_count": null,
   "id": "560a11fc-2f06-4286-8cd2-92a6a97215f6",
   "metadata": {},
   "outputs": [],
   "source": [
    "# 3.logical operator"
   ]
  },
  {
   "cell_type": "code",
   "execution_count": 5,
   "id": "bad7d39d-6f71-44af-bb46-12e1f8772b05",
   "metadata": {},
   "outputs": [
    {
     "name": "stdout",
     "output_type": "stream",
     "text": [
      "True\n",
      "True\n",
      "False\n"
     ]
    }
   ],
   "source": [
    "a=5\n",
    "b=10\n",
    "\n",
    "print(5 > 3 and 10 > 5)  \n",
    "print(5 > 10 or 10 > 5) \n",
    "print( not 5 > 3) "
   ]
  },
  {
   "cell_type": "code",
   "execution_count": null,
   "id": "501ecfcf-f117-49e6-b042-93dadfb0a57f",
   "metadata": {},
   "outputs": [],
   "source": [
    "# 4. comparision operator"
   ]
  },
  {
   "cell_type": "code",
   "execution_count": 6,
   "id": "a5f46389-94f5-4bd2-8485-580891df9b79",
   "metadata": {},
   "outputs": [
    {
     "name": "stdout",
     "output_type": "stream",
     "text": [
      "False\n",
      "True\n",
      "False\n",
      "True\n",
      "False\n",
      "True\n"
     ]
    }
   ],
   "source": [
    "a = 10\n",
    "b = 20\n",
    "\n",
    "print(a == b)  \n",
    "print(a != b)   \n",
    "print(a > b)  \n",
    "print(a < b)    \n",
    "print(a >= b)  \n",
    "print(a <= b)"
   ]
  },
  {
   "cell_type": "code",
   "execution_count": null,
   "id": "98957d52-4fea-4212-acdc-ff95f7e33ce0",
   "metadata": {},
   "outputs": [],
   "source": [
    "# 5. identity operator"
   ]
  },
  {
   "cell_type": "code",
   "execution_count": 13,
   "id": "45d669f1-ccc1-4836-9ace-f106f941974d",
   "metadata": {},
   "outputs": [
    {
     "name": "stdout",
     "output_type": "stream",
     "text": [
      "False\n",
      "True\n",
      "True\n"
     ]
    }
   ],
   "source": [
    "x = [4,5,6]\n",
    "y = [4,5,6]\n",
    "z = x\n",
    "\n",
    "print(x is y)      # False (different objects with same values)\n",
    "print(x is z)      # True (same object)\n",
    "print(x is not y)"
   ]
  },
  {
   "cell_type": "code",
   "execution_count": null,
   "id": "0207059e-6baa-4343-8e5c-359c45976184",
   "metadata": {},
   "outputs": [],
   "source": [
    "# 6.Membership operator"
   ]
  },
  {
   "cell_type": "code",
   "execution_count": 12,
   "id": "fec44949-de63-4b4f-8445-e8fa345dda37",
   "metadata": {},
   "outputs": [
    {
     "name": "stdout",
     "output_type": "stream",
     "text": [
      "True\n",
      "False\n",
      "True\n"
     ]
    }
   ],
   "source": [
    "k = ['a','b','c','d']\n",
    "\n",
    "print('a' in k)    \n",
    "print(10 in k)     \n",
    "print(10 not in k)"
   ]
  },
  {
   "cell_type": "code",
   "execution_count": null,
   "id": "f0380ac6-4a29-4399-a7d4-3ec1244f55bc",
   "metadata": {},
   "outputs": [],
   "source": [
    "# 7. Bitwise operator"
   ]
  },
  {
   "cell_type": "code",
   "execution_count": null,
   "id": "a5935a56-1876-46b8-a637-f6de622b66a7",
   "metadata": {},
   "outputs": [],
   "source": [
    "a = 6   # 110 in binary\n",
    "b = 3   # 011 in binary\n",
    "\n",
    "print(a & b)   # AND → 2  (010)\n",
    "print(a | b)   # OR  → 7  (111)\n",
    "print(a ^ b)   # XOR → 5  (101)\n",
    "print(~a)      # NOT → -7 (2’s complement)\n",
    "print(a << 1)  # Left shift → 12 (1100)\n",
    "print(a >> 1)  # Right shift → 3  (011)"
   ]
  }
 ],
 "metadata": {
  "kernelspec": {
   "display_name": "Python 3 (ipykernel)",
   "language": "python",
   "name": "python3"
  },
  "language_info": {
   "codemirror_mode": {
    "name": "ipython",
    "version": 3
   },
   "file_extension": ".py",
   "mimetype": "text/x-python",
   "name": "python",
   "nbconvert_exporter": "python",
   "pygments_lexer": "ipython3",
   "version": "3.13.5"
  }
 },
 "nbformat": 4,
 "nbformat_minor": 5
}
