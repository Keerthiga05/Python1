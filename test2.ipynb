{
 "cells": [
  {
   "cell_type": "code",
   "execution_count": 15,
   "id": "b86b7ac3-e275-4996-80a7-5f1489536c6e",
   "metadata": {
    "scrolled": true
   },
   "outputs": [
    {
     "name": "stdout",
     "output_type": "stream",
     "text": [
      "Marks: [85, 40, 77, 92, 60]\n",
      "Grades: ['A', 'F', 'B', 'A', 'C']\n"
     ]
    }
   ],
   "source": [
    "#1\n",
    "marks = [85, 40, 77, 92, 60]\n",
    "grades = []\n",
    "\n",
    "for m in marks:\n",
    "    if m >= 80:\n",
    "        grades.append(\"A\")\n",
    "    elif m >= 70:\n",
    "        grades.append('B')\n",
    "    elif m >= 60:\n",
    "        grades.append('C')\n",
    "    elif m >= 50:\n",
    "        grades.append('D')\n",
    "    elif m >= 40:\n",
    "        grades.append('F')\n",
    "    else:\n",
    "        grades.append('Fail')\n",
    "\n",
    "print(\"Marks:\", marks)\n",
    "print(\"Grades:\", grades)\n"
   ]
  },
  {
   "cell_type": "code",
   "execution_count": 2,
   "id": "452dcd27-fdbc-44c0-adc8-5d29b9d11781",
   "metadata": {},
   "outputs": [
    {
     "name": "stdout",
     "output_type": "stream",
     "text": [
      "Contact: 9988776655\n"
     ]
    }
   ],
   "source": [
    "#2\n",
    "contacts = {\"Kumar\": \"9988776655\", \"Meena\": \"9876501234\"}\n",
    "search = \"Kumar\"\n",
    "\n",
    "if search in contacts:\n",
    "    print(f\"Contact: {contacts[search]}\")\n",
    "else:\n",
    "    print(\"Not Found\")\n",
    "\n",
    "        \n",
    "\n"
   ]
  },
  {
   "cell_type": "code",
   "execution_count": 4,
   "id": "0cbc9534-7469-4cbb-a4b4-a62475ec5c59",
   "metadata": {},
   "outputs": [
    {
     "name": "stdout",
     "output_type": "stream",
     "text": [
      "Masked Password: m******t\n"
     ]
    }
   ],
   "source": [
    "#3\n",
    "password = \"mysecret\"\n",
    "masked = password[0] + \"*\"*(len(password)-2) + password[-1]\n",
    "print(\"Masked Password:\", masked)\n"
   ]
  },
  {
   "cell_type": "code",
   "execution_count": 5,
   "id": "75f1af41-e518-4550-8155-19a22aee1c1d",
   "metadata": {},
   "outputs": [
    {
     "name": "stdout",
     "output_type": "stream",
     "text": [
      "Longest word: programming\n"
     ]
    }
   ],
   "source": [
    "#4\n",
    "sentence = \"programming fantastic and powerful\"\n",
    "words = sentence.split()\n",
    "longest = max(words, key=len)\n",
    "print(\"Longest word:\", longest)\n"
   ]
  },
  {
   "cell_type": "code",
   "execution_count": 6,
   "id": "1749dc31-a409-4cb3-87ed-abd557e8d68b",
   "metadata": {},
   "outputs": [
    {
     "name": "stdout",
     "output_type": "stream",
     "text": [
      "Palindromes: [121, 88]\n"
     ]
    }
   ],
   "source": [
    "#5\n",
    "nums = [121, 133, 123, 88, 97]\n",
    "palindromes = [n for n in nums if str(n) == str(n)[::-1]]\n",
    "print(\"Palindromes:\", palindromes)\n"
   ]
  },
  {
   "cell_type": "code",
   "execution_count": 5,
   "id": "88eed765-8ffc-45b3-82a4-c1eb27243b13",
   "metadata": {},
   "outputs": [
    {
     "name": "stdout",
     "output_type": "stream",
     "text": [
      "Flattened List: [10, 20, 30, 40, 50, 60]\n"
     ]
    }
   ],
   "source": [
    "#6\n",
    "nested = [[10, 20], [30, 40], [50, 60]]\n",
    "flat = [x for sub in nested for x in sub]\n",
    "print(\"Flattened List:\", flat)\n"
   ]
  },
  {
   "cell_type": "code",
   "execution_count": 10,
   "id": "670984ea-20ab-44a5-93f2-240fe6973d41",
   "metadata": {},
   "outputs": [
    {
     "name": "stdout",
     "output_type": "stream",
     "text": [
      "9474 - 9474\n",
      "Yes Armstrong Number\n"
     ]
    }
   ],
   "source": [
    "#8\n",
    "num = 9474\n",
    "s = sum(int(d)**len(str(num)) for d in str(num))\n",
    "\n",
    "print(str(num) + \" - \" + str(s))\n",
    "if num == s:\n",
    "    print(\"Yes Armstrong Number\")\n",
    "else:\n",
    "    print(\"Not Armstrong Number\")\n"
   ]
  },
  {
   "cell_type": "code",
   "execution_count": 11,
   "id": "aaf5025d-62a7-43f8-96c8-e2ae135c535b",
   "metadata": {},
   "outputs": [
    {
     "name": "stdout",
     "output_type": "stream",
     "text": [
      "Decimal: 25, Binary: 11001\n"
     ]
    }
   ],
   "source": [
    "#9\n",
    "decimal = 25\n",
    "binary = bin(decimal).replace(\"0b\", \"\")\n",
    "print(f\"Decimal: {decimal}, Binary: {binary}\")"
   ]
  },
  {
   "cell_type": "code",
   "execution_count": 18,
   "id": "103c645a-f4d7-4b4c-9a36-9cd362ad177e",
   "metadata": {},
   "outputs": [
    {
     "name": "stdout",
     "output_type": "stream",
     "text": [
      "Common Elements: [8, 2, 4]\n"
     ]
    }
   ],
   "source": [
    "\n",
    "L1 = [2, 4, 8, 19]\n",
    "L2 = [4, 6, 8, 2, 1]\n",
    "L3 = list(set(L1) & set(L2))\n",
    "print(\"Common Elements:\", L3)\n"
   ]
  },
  {
   "cell_type": "code",
   "execution_count": null,
   "id": "38c87674-5d19-4925-a817-139276d5bb99",
   "metadata": {},
   "outputs": [],
   "source": []
  }
 ],
 "metadata": {
  "kernelspec": {
   "display_name": "Python 3 (ipykernel)",
   "language": "python",
   "name": "python3"
  },
  "language_info": {
   "codemirror_mode": {
    "name": "ipython",
    "version": 3
   },
   "file_extension": ".py",
   "mimetype": "text/x-python",
   "name": "python",
   "nbconvert_exporter": "python",
   "pygments_lexer": "ipython3",
   "version": "3.13.5"
  }
 },
 "nbformat": 4,
 "nbformat_minor": 5
}
