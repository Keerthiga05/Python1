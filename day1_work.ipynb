{
 "cells": [
  {
   "cell_type": "code",
   "execution_count": 4,
   "id": "06e9ccd6-b6c7-4829-83bc-83dba3584b54",
   "metadata": {},
   "outputs": [],
   "source": [
    "#legal variable"
   ]
  },
  {
   "cell_type": "code",
   "execution_count": 7,
   "id": "5704f1b0-aea9-451f-a930-66f7278f5483",
   "metadata": {},
   "outputs": [
    {
     "name": "stdout",
     "output_type": "stream",
     "text": [
      "20\n"
     ]
    }
   ],
   "source": [
    "age=20   # must begin with a alphabets (a to z or A to Z)\n",
    "print(age)"
   ]
  },
  {
   "cell_type": "code",
   "execution_count": 3,
   "id": "72481ffc-274b-4c43-8fec-3237e679a2fc",
   "metadata": {},
   "outputs": [
    {
     "name": "stdout",
     "output_type": "stream",
     "text": [
      "Keerthi\n"
     ]
    }
   ],
   "source": [
    "_myname=\"Keerthi\" #start with underscore\n",
    "print(_myname)"
   ]
  },
  {
   "cell_type": "code",
   "execution_count": 8,
   "id": "699c261d-30fc-4ece-8b3b-d00f66a220c0",
   "metadata": {},
   "outputs": [
    {
     "name": "stdout",
     "output_type": "stream",
     "text": [
      "guido van russom\n"
     ]
    }
   ],
   "source": [
    "python1=\"guido van russom\" # number will accept at the end\n",
    "print(python1)"
   ]
  },
  {
   "cell_type": "code",
   "execution_count": 20,
   "id": "b35386a0-3612-4481-93e8-01ac65ba873d",
   "metadata": {},
   "outputs": [
    {
     "name": "stdout",
     "output_type": "stream",
     "text": [
      "java\n"
     ]
    }
   ],
   "source": [
    "myVar=\"java\" # case sensitive\n",
    "print(myVar)"
   ]
  },
  {
   "cell_type": "code",
   "execution_count": 11,
   "id": "f637cb87-f633-4910-ad3a-011f81a92096",
   "metadata": {},
   "outputs": [],
   "source": [
    "# illegal variable"
   ]
  },
  {
   "cell_type": "code",
   "execution_count": 15,
   "id": "4271009d-6638-40da-98a3-878dbc26f0b2",
   "metadata": {},
   "outputs": [
    {
     "ename": "SyntaxError",
     "evalue": "invalid decimal literal (619507480.py, line 1)",
     "output_type": "error",
     "traceback": [
      "\u001b[1;36m  Cell \u001b[1;32mIn[15], line 1\u001b[1;36m\u001b[0m\n\u001b[1;33m    1cls=\"python\"  # dont start with numbers\u001b[0m\n\u001b[1;37m    ^\u001b[0m\n\u001b[1;31mSyntaxError\u001b[0m\u001b[1;31m:\u001b[0m invalid decimal literal\n"
     ]
    }
   ],
   "source": [
    "1cls=\"python\"  # dont start with numbers\n",
    "print(1cls)"
   ]
  },
  {
   "cell_type": "code",
   "execution_count": 1,
   "id": "38b7bbc7-8959-43c5-948e-a88004684446",
   "metadata": {},
   "outputs": [
    {
     "ename": "SyntaxError",
     "evalue": "cannot assign to expression here. Maybe you meant '==' instead of '='? (2610782715.py, line 1)",
     "output_type": "error",
     "traceback": [
      "\u001b[1;36m  Cell \u001b[1;32mIn[1], line 1\u001b[1;36m\u001b[0m\n\u001b[1;33m    my-program=\"python\" #hyphan not allowed\u001b[0m\n\u001b[1;37m    ^\u001b[0m\n\u001b[1;31mSyntaxError\u001b[0m\u001b[1;31m:\u001b[0m cannot assign to expression here. Maybe you meant '==' instead of '='?\n"
     ]
    }
   ],
   "source": [
    "my-program=\"python\" #hyphan not allowed\n",
    "print(my-program)"
   ]
  },
  {
   "cell_type": "code",
   "execution_count": 17,
   "id": "35a9e955-162a-41ca-ae7c-8a698a823621",
   "metadata": {},
   "outputs": [
    {
     "ename": "SyntaxError",
     "evalue": "invalid syntax (2498062430.py, line 1)",
     "output_type": "error",
     "traceback": [
      "\u001b[1;36m  Cell \u001b[1;32mIn[17], line 1\u001b[1;36m\u001b[0m\n\u001b[1;33m    price$=250\u001b[0m\n\u001b[1;37m         ^\u001b[0m\n\u001b[1;31mSyntaxError\u001b[0m\u001b[1;31m:\u001b[0m invalid syntax\n"
     ]
    }
   ],
   "source": [
    "price$=250 # not accepted special characters\n",
    "print(price$)"
   ]
  },
  {
   "cell_type": "code",
   "execution_count": 18,
   "id": "42995a3c-41f3-49b7-86eb-82a1db161ae4",
   "metadata": {},
   "outputs": [
    {
     "ename": "SyntaxError",
     "evalue": "invalid syntax (1312222234.py, line 1)",
     "output_type": "error",
     "traceback": [
      "\u001b[1;36m  Cell \u001b[1;32mIn[18], line 1\u001b[1;36m\u001b[0m\n\u001b[1;33m    my name=\"keerthi\"\u001b[0m\n\u001b[1;37m       ^\u001b[0m\n\u001b[1;31mSyntaxError\u001b[0m\u001b[1;31m:\u001b[0m invalid syntax\n"
     ]
    }
   ],
   "source": [
    "my name=\"keerthi\" # not accept space\n",
    "print(my name)"
   ]
  },
  {
   "cell_type": "code",
   "execution_count": 19,
   "id": "69d4b1bc-7b22-4492-a92d-2819a4c86a03",
   "metadata": {},
   "outputs": [
    {
     "ename": "SyntaxError",
     "evalue": "invalid syntax (1519392570.py, line 1)",
     "output_type": "error",
     "traceback": [
      "\u001b[1;36m  Cell \u001b[1;32mIn[19], line 1\u001b[1;36m\u001b[0m\n\u001b[1;33m    class=\"python\"\u001b[0m\n\u001b[1;37m         ^\u001b[0m\n\u001b[1;31mSyntaxError\u001b[0m\u001b[1;31m:\u001b[0m invalid syntax\n"
     ]
    }
   ],
   "source": [
    "class=\"python\"  # not accept keywordsa\n",
    "print(class)"
   ]
  },
  {
   "cell_type": "code",
   "execution_count": null,
   "id": "24e8dd8c-4abe-473f-91b3-eca6fd2e0a3e",
   "metadata": {},
   "outputs": [],
   "source": []
  }
 ],
 "metadata": {
  "kernelspec": {
   "display_name": "Python 3 (ipykernel)",
   "language": "python",
   "name": "python3"
  },
  "language_info": {
   "codemirror_mode": {
    "name": "ipython",
    "version": 3
   },
   "file_extension": ".py",
   "mimetype": "text/x-python",
   "name": "python",
   "nbconvert_exporter": "python",
   "pygments_lexer": "ipython3",
   "version": "3.13.5"
  }
 },
 "nbformat": 4,
 "nbformat_minor": 5
}
