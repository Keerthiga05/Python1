{
 "cells": [
  {
   "cell_type": "code",
   "execution_count": null,
   "id": "85c95876-9fb1-44ea-99d2-c702071c41c4",
   "metadata": {},
   "outputs": [],
   "source": [
    "# Arithmetic operation"
   ]
  },
  {
   "cell_type": "code",
   "execution_count": 17,
   "id": "645ac326-a950-4ed9-b5e3-f39e42023c1f",
   "metadata": {},
   "outputs": [
    {
     "name": "stdin",
     "output_type": "stream",
     "text": [
      "enter the a value: 4\n",
      "enter the b value: 2\n"
     ]
    }
   ],
   "source": [
    "a=int(input(\"enter the a value:\"))\n",
    "b=int(input(\"enter the b value:\"))"
   ]
  },
  {
   "cell_type": "code",
   "execution_count": 18,
   "id": "4edc6cc8-fd55-477f-ba25-44104e7371ac",
   "metadata": {},
   "outputs": [
    {
     "name": "stdout",
     "output_type": "stream",
     "text": [
      "6\n"
     ]
    }
   ],
   "source": [
    "print(a+b)"
   ]
  },
  {
   "cell_type": "code",
   "execution_count": 19,
   "id": "edb03ad2-a4c7-4f3e-9b20-b21a1e317828",
   "metadata": {},
   "outputs": [
    {
     "name": "stdout",
     "output_type": "stream",
     "text": [
      "2\n"
     ]
    }
   ],
   "source": [
    "print(a-b)"
   ]
  },
  {
   "cell_type": "code",
   "execution_count": 20,
   "id": "d38a561a-fc35-441c-96aa-5680c48b7e53",
   "metadata": {},
   "outputs": [
    {
     "name": "stdout",
     "output_type": "stream",
     "text": [
      "8\n"
     ]
    }
   ],
   "source": [
    "print(a*b)"
   ]
  },
  {
   "cell_type": "code",
   "execution_count": 21,
   "id": "c34534ed-3daf-4ca5-bf46-6f146617cd57",
   "metadata": {},
   "outputs": [
    {
     "name": "stdout",
     "output_type": "stream",
     "text": [
      "2.0\n"
     ]
    }
   ],
   "source": [
    "print(a/b)"
   ]
  },
  {
   "cell_type": "code",
   "execution_count": 22,
   "id": "9bf606d4-afef-4478-bba4-99051157e478",
   "metadata": {},
   "outputs": [
    {
     "name": "stdout",
     "output_type": "stream",
     "text": [
      "0\n"
     ]
    }
   ],
   "source": [
    "print(a%b)"
   ]
  },
  {
   "cell_type": "code",
   "execution_count": 23,
   "id": "092113af-2c9e-45e6-9675-53ed4b53c4e9",
   "metadata": {},
   "outputs": [
    {
     "name": "stdout",
     "output_type": "stream",
     "text": [
      "2\n"
     ]
    }
   ],
   "source": [
    "print(a//b)"
   ]
  },
  {
   "cell_type": "code",
   "execution_count": 24,
   "id": "9d3cd9b2-7667-4950-a497-4b856c6db6de",
   "metadata": {},
   "outputs": [
    {
     "name": "stdout",
     "output_type": "stream",
     "text": [
      "16\n"
     ]
    }
   ],
   "source": [
    "print(a**b)"
   ]
  },
  {
   "cell_type": "code",
   "execution_count": null,
   "id": "d3c3c8fb-26f8-49b0-ba1c-94dc0140c3d7",
   "metadata": {},
   "outputs": [],
   "source": [
    "# comparison operator (check two varicables)"
   ]
  },
  {
   "cell_type": "code",
   "execution_count": null,
   "id": "21c5a14b-5230-4ccf-bdaa-46b5d7610c67",
   "metadata": {},
   "outputs": [],
   "source": [
    "# assignment operator"
   ]
  },
  {
   "cell_type": "code",
   "execution_count": null,
   "id": "4ac8658c-14e1-45a0-9d04-7ec9bc4aa96d",
   "metadata": {},
   "outputs": [],
   "source": [
    "#logical operator (check two condition)"
   ]
  },
  {
   "cell_type": "code",
   "execution_count": null,
   "id": "06cf9052-8c52-40fc-ac39-e2e19ac319d5",
   "metadata": {},
   "outputs": [],
   "source": [
    "# and ,or ,not"
   ]
  },
  {
   "cell_type": "code",
   "execution_count": 27,
   "id": "3b89603c-7601-4f52-bbbf-a26b28c49fa8",
   "metadata": {},
   "outputs": [
    {
     "name": "stdout",
     "output_type": "stream",
     "text": [
      "True\n"
     ]
    }
   ],
   "source": [
    "# and\n",
    "a=10\n",
    "b=7\n",
    "print( a>5 and b<50)"
   ]
  },
  {
   "cell_type": "code",
   "execution_count": 28,
   "id": "e8c737ce-c8d5-4275-9e0a-d9af31ffc5e2",
   "metadata": {},
   "outputs": [
    {
     "name": "stdout",
     "output_type": "stream",
     "text": [
      "True\n"
     ]
    }
   ],
   "source": [
    "# or\n",
    "a=5\n",
    "b=6\n",
    "print( a>7 or b>=6)"
   ]
  },
  {
   "cell_type": "code",
   "execution_count": 33,
   "id": "3968dbdf-0049-49e4-b316-aa6af2b43664",
   "metadata": {},
   "outputs": [
    {
     "name": "stdout",
     "output_type": "stream",
     "text": [
      "True\n"
     ]
    }
   ],
   "source": [
    "#not\n",
    "a=10\n",
    "b=9\n",
    "print(not a<7 and b>6)"
   ]
  },
  {
   "cell_type": "code",
   "execution_count": 34,
   "id": "7fa501e5-c7a7-430a-b031-3aee8203cd4e",
   "metadata": {},
   "outputs": [
    {
     "name": "stdout",
     "output_type": "stream",
     "text": [
      "True\n"
     ]
    }
   ],
   "source": [
    "x=7\n",
    "print(not x>10)"
   ]
  },
  {
   "cell_type": "code",
   "execution_count": null,
   "id": "fe2fd68c-ba9e-4318-af19-aa5953ee776b",
   "metadata": {},
   "outputs": [],
   "source": []
  }
 ],
 "metadata": {
  "kernelspec": {
   "display_name": "Python 3 (ipykernel)",
   "language": "python",
   "name": "python3"
  },
  "language_info": {
   "codemirror_mode": {
    "name": "ipython",
    "version": 3
   },
   "file_extension": ".py",
   "mimetype": "text/x-python",
   "name": "python",
   "nbconvert_exporter": "python",
   "pygments_lexer": "ipython3",
   "version": "3.13.5"
  }
 },
 "nbformat": 4,
 "nbformat_minor": 5
}
